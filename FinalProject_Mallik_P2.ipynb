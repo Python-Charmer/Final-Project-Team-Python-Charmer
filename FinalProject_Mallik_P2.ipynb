{
  "nbformat": 4,
  "nbformat_minor": 0,
  "metadata": {
    "colab": {
      "name": "FinalProject_Mallik_P2.ipynb",
      "version": "0.3.2",
      "provenance": [],
      "collapsed_sections": [],
      "toc_visible": true,
      "include_colab_link": true
    },
    "kernelspec": {
      "name": "python3",
      "display_name": "Python 3"
    }
  },
  "cells": [
    {
      "cell_type": "markdown",
      "metadata": {
        "id": "view-in-github",
        "colab_type": "text"
      },
      "source": [
        "<a href=\"https://colab.research.google.com/github/Python-Charmer/Final-Project-Team-Python-Charmer/blob/master/FinalProject_Mallik_P2.ipynb\" target=\"_parent\"><img src=\"https://colab.research.google.com/assets/colab-badge.svg\" alt=\"Open In Colab\"/></a>"
      ]
    },
    {
      "metadata": {
        "id": "ogLTuFYrGKiM",
        "colab_type": "text"
      },
      "cell_type": "markdown",
      "source": [
        "# Python Final Project - Team Python Charmers\n"
      ]
    },
    {
      "metadata": {
        "id": "T3pqMqKsGVMF",
        "colab_type": "code",
        "colab": {}
      },
      "cell_type": "code",
      "source": [
        "# Loading Packages\n",
        "import pandas as pd\n",
        "import numpy as np\n",
        "import matplotlib.pyplot as plt"
      ],
      "execution_count": 0,
      "outputs": []
    },
    {
      "metadata": {
        "id": "1IPQxa43K3lS",
        "colab_type": "code",
        "colab": {}
      },
      "cell_type": "code",
      "source": [
        "# Loading Data From Source.\n",
        "def load_data():\n",
        "  url = r'https://raw.githubusercontent.com/Python-Charmer/Final-Project-Team-Python-Charmer/master/Phase1/Data/BreastCancerWisconsin.csv'\n",
        "  df = pd.read_csv(url)\n",
        "  names = ['Scn','A2','A3','A4','A5','A6','A7', 'A8','A9','A10','Class']\n",
        "  df.columns = names\n",
        "  return df"
      ],
      "execution_count": 0,
      "outputs": []
    },
    {
      "metadata": {
        "id": "1u47FI5ELaky",
        "colab_type": "code",
        "colab": {}
      },
      "cell_type": "code",
      "source": [
        "# Understanding Missing Values\n",
        "def clean_missing(df):\n",
        "  df['A7'] = df['A7'].replace('?',np.NaN)\n",
        "  df['A7'] = pd.to_numeric(df['A7'])\n",
        "  print(\"Below are how many missing values for each column\\n\")\n",
        "  print(df.isnull().sum())\n",
        "  print(\"\\nCleaning missing values with column means\\n\")\n",
        "  df = df.fillna(df.mean(skipna = True))\n",
        "  print(df.isnull().sum())\n",
        "  return df\n",
        "  "
      ],
      "execution_count": 0,
      "outputs": []
    },
    {
      "metadata": {
        "id": "Tf8EQpgxmsji",
        "colab_type": "code",
        "colab": {}
      },
      "cell_type": "code",
      "source": [
        "# Calculating Summary Metrics\n",
        "def  sum_metrics(df):\n",
        "  print(\"\\n Below are the summary metrics of the data \\n\" + str(df.describe()))\n",
        "  print (\"\\n\\nThere are \" + str(df.shape[0]) + \" rows and \" + str(df.shape[1]) + \" Columns in this data frame\")\n",
        "  print(\"\\nThere are \" + str(len(df['Scn'].unique())) + \" unique scn values in the dataset.\\n\")\n",
        "  print(\"Below are the duplicate rows in the dataset.\\n\")\n",
        "  print(str(df.loc[df.duplicated(), :]) + \"\\n\")"
      ],
      "execution_count": 0,
      "outputs": []
    },
    {
      "metadata": {
        "id": "TS3YVaUci2Cy",
        "colab_type": "code",
        "colab": {}
      },
      "cell_type": "code",
      "source": [
        "# Plotting graphs\n",
        "def plot_graphs(df):\n",
        "  print(\"\\nBelow are the histograms of A2:A10 \\n\")\n",
        "  df.iloc[:,1:10].hist(bins = 8, color=\"blue\", grid=\"False\",alpha = .5, figsize=(12,6))\n",
        "  plt.tight_layout(rect=(0,0,1.2,1.2))\n",
        "  plt.show()\n",
        "  df['Class'].value_counts().plot.bar().set_title(\"Class Variable: 2 = Benign 4 = Malignant\")\n",
        "  df.plot.scatter(x='A3', y='A4').set_title(\"Scatter of A3 & A4 90% corr\")\n"
      ],
      "execution_count": 0,
      "outputs": []
    },
    {
      "metadata": {
        "id": "-r_vIkrilJDn",
        "colab_type": "code",
        "colab": {}
      },
      "cell_type": "code",
      "source": [
        "# Main Function\n",
        "if __name__ == \"__main__\":\n",
        "  df = load_data()\n",
        "  df = clean_missing(df)\n",
        "  sum_metrics(df)\n",
        "  plot_graphs(df)"
      ],
      "execution_count": 0,
      "outputs": []
    },
    {
      "metadata": {
        "id": "qh9vKJqfnsC4",
        "colab_type": "code",
        "outputId": "e605751b-7088-467a-966a-76fd8a8f2eef",
        "colab": {
          "base_uri": "https://localhost:8080/",
          "height": 34
        }
      },
      "cell_type": "code",
      "source": [
        "print(\"The columns that need standardization are: A7,A3,& A9 because they have the highest amount of variance compared to other factors.\")"
      ],
      "execution_count": 7,
      "outputs": [
        {
          "output_type": "stream",
          "text": [
            "The columns that need standardization are: A7,A3,& A9 because they have the highest amount of variance compared to other factors.\n"
          ],
          "name": "stdout"
        }
      ]
    },
    {
      "metadata": {
        "id": "-hlKAZsp9dFE",
        "colab_type": "code",
        "outputId": "f258f754-e961-433e-e618-a2402616593b",
        "colab": {
          "base_uri": "https://localhost:8080/",
          "height": 166
        }
      },
      "cell_type": "code",
      "source": [
        "# KMeans algorithm using 4 clusters and calculating centroids\n",
        "from sklearn.cluster import KMeans\n",
        "import matplotlib.pyplot as plt\n",
        "cancer = KMeans(n_clusters = 4)\n",
        "cancer.fit(df.iloc[:,1:-1])\n",
        "centroids = cancer.cluster_centers_\n",
        "pd.DataFrame(centroids, columns = df.iloc[:,1:10].columns)"
      ],
      "execution_count": 84,
      "outputs": [
        {
          "output_type": "execute_result",
          "data": {
            "text/html": [
              "<div>\n",
              "<style scoped>\n",
              "    .dataframe tbody tr th:only-of-type {\n",
              "        vertical-align: middle;\n",
              "    }\n",
              "\n",
              "    .dataframe tbody tr th {\n",
              "        vertical-align: top;\n",
              "    }\n",
              "\n",
              "    .dataframe thead th {\n",
              "        text-align: right;\n",
              "    }\n",
              "</style>\n",
              "<table border=\"1\" class=\"dataframe\">\n",
              "  <thead>\n",
              "    <tr style=\"text-align: right;\">\n",
              "      <th></th>\n",
              "      <th>A2</th>\n",
              "      <th>A3</th>\n",
              "      <th>A4</th>\n",
              "      <th>A5</th>\n",
              "      <th>A6</th>\n",
              "      <th>A7</th>\n",
              "      <th>A8</th>\n",
              "      <th>A9</th>\n",
              "      <th>A10</th>\n",
              "    </tr>\n",
              "  </thead>\n",
              "  <tbody>\n",
              "    <tr>\n",
              "      <th>0</th>\n",
              "      <td>7.234043</td>\n",
              "      <td>4.851064</td>\n",
              "      <td>5.042553</td>\n",
              "      <td>4.861702</td>\n",
              "      <td>4.117021</td>\n",
              "      <td>9.382979</td>\n",
              "      <td>5.265957</td>\n",
              "      <td>3.787234</td>\n",
              "      <td>1.648936</td>\n",
              "    </tr>\n",
              "    <tr>\n",
              "      <th>1</th>\n",
              "      <td>2.944934</td>\n",
              "      <td>1.244493</td>\n",
              "      <td>1.365639</td>\n",
              "      <td>1.292952</td>\n",
              "      <td>2.039648</td>\n",
              "      <td>1.351401</td>\n",
              "      <td>2.061674</td>\n",
              "      <td>1.200441</td>\n",
              "      <td>1.077093</td>\n",
              "    </tr>\n",
              "    <tr>\n",
              "      <th>2</th>\n",
              "      <td>7.464789</td>\n",
              "      <td>7.028169</td>\n",
              "      <td>6.676056</td>\n",
              "      <td>4.197183</td>\n",
              "      <td>5.535211</td>\n",
              "      <td>3.453220</td>\n",
              "      <td>5.380282</td>\n",
              "      <td>6.816901</td>\n",
              "      <td>2.309859</td>\n",
              "    </tr>\n",
              "    <tr>\n",
              "      <th>3</th>\n",
              "      <td>6.762500</td>\n",
              "      <td>8.387500</td>\n",
              "      <td>8.425000</td>\n",
              "      <td>7.750000</td>\n",
              "      <td>6.775000</td>\n",
              "      <td>9.212500</td>\n",
              "      <td>7.375000</td>\n",
              "      <td>7.737500</td>\n",
              "      <td>3.787500</td>\n",
              "    </tr>\n",
              "  </tbody>\n",
              "</table>\n",
              "</div>"
            ],
            "text/plain": [
              "         A2        A3        A4        A5        A6        A7        A8  \\\n",
              "0  7.234043  4.851064  5.042553  4.861702  4.117021  9.382979  5.265957   \n",
              "1  2.944934  1.244493  1.365639  1.292952  2.039648  1.351401  2.061674   \n",
              "2  7.464789  7.028169  6.676056  4.197183  5.535211  3.453220  5.380282   \n",
              "3  6.762500  8.387500  8.425000  7.750000  6.775000  9.212500  7.375000   \n",
              "\n",
              "         A9       A10  \n",
              "0  3.787234  1.648936  \n",
              "1  1.200441  1.077093  \n",
              "2  6.816901  2.309859  \n",
              "3  7.737500  3.787500  "
            ]
          },
          "metadata": {
            "tags": []
          },
          "execution_count": 84
        }
      ]
    },
    {
      "metadata": {
        "id": "VvDoHKWgpHE0",
        "colab_type": "code",
        "colab": {
          "base_uri": "https://localhost:8080/",
          "height": 376
        },
        "outputId": "4b8d68c0-a447-40b8-f0ee-3775f1ee4061"
      },
      "cell_type": "code",
      "source": [
        "# Calculating Inertia \n",
        "ks = range(1,16)\n",
        "inertias = []\n",
        "for k in ks:\n",
        "  model = KMeans(n_clusters=k)\n",
        "  model.fit(df.iloc[:,1:-1])\n",
        "  inertias.append(model.inertia_)\n",
        "plt.plot(ks, inertias, '-o')\n",
        "plt.title('Cluster Number vs Inertias')\n",
        "plt.xlabel('Number of Clusters, k')\n",
        "plt.ylabel('Inertia')\n",
        "plt.xticks(ks)\n",
        "plt.show()"
      ],
      "execution_count": 68,
      "outputs": [
        {
          "output_type": "display_data",
          "data": {
            "image/png": "[encoded data removed]",
            "text/plain": [
              "<matplotlib.figure.Figure at 0x7ff0f964e438>"
            ]
          },
          "metadata": {
            "tags": []
          }
        }
      ]
    },
    {
      "metadata": {
        "id": "XbcBn8N4rwCm",
        "colab_type": "code",
        "colab": {},
        "cellView": "code"
      },
      "cell_type": "code",
      "source": [
        "# Based on the above plot, optimal number of clusters is 2"
      ],
      "execution_count": 0,
      "outputs": []
    },
    {
      "metadata": {
        "id": "eLauJ4aIsHXU",
        "colab_type": "code",
        "colab": {
          "base_uri": "https://localhost:8080/",
          "height": 376
        },
        "outputId": "1c642833-2e00-4dfd-a0a4-dcc2137891eb"
      },
      "cell_type": "code",
      "source": [
        "# Calculating Standard deviations of all features to inspect variation\n",
        "SD = df.iloc[:,1:-1].std()\n",
        "plt.plot(SD.sort_values(ascending = False),'o')\n",
        "plt.title(\"SD of Features\")\n",
        "plt.xlabel(\"Columns\")\n",
        "plt.ylabel(\"Standard Deviation\")\n",
        "plt.xticks(df.iloc[:,1:-1].columns)\n",
        "plt.show()"
      ],
      "execution_count": 69,
      "outputs": [
        {
          "output_type": "display_data",
          "data": {
            "image/png": "[encoded data removed]",
            "text/plain": [
              "<matplotlib.figure.Figure at 0x7ff0f97e96a0>"
            ]
          },
          "metadata": {
            "tags": []
          }
        }
      ]
    },
    {
      "metadata": {
        "id": "UFXvTnpR16mB",
        "colab_type": "code",
        "colab": {
          "base_uri": "https://localhost:8080/",
          "height": 195
        },
        "outputId": "de72c04f-a002-4cfc-b5f6-952f06e4ed4a"
      },
      "cell_type": "code",
      "source": [
        "# Cross tabulating the cluster labels with \"Class\"\n",
        "labels = cancer.fit_predict(df.iloc[:,1:-1])\n",
        "ctf = pd.DataFrame({'labels': labels, 'Class': df[\"Class\"]})\n",
        "pd.crosstab(ctf['labels'], ctf['Class'])                  "
      ],
      "execution_count": 101,
      "outputs": [
        {
          "output_type": "execute_result",
          "data": {
            "text/html": [
              "<div>\n",
              "<style scoped>\n",
              "    .dataframe tbody tr th:only-of-type {\n",
              "        vertical-align: middle;\n",
              "    }\n",
              "\n",
              "    .dataframe tbody tr th {\n",
              "        vertical-align: top;\n",
              "    }\n",
              "\n",
              "    .dataframe thead th {\n",
              "        text-align: right;\n",
              "    }\n",
              "</style>\n",
              "<table border=\"1\" class=\"dataframe\">\n",
              "  <thead>\n",
              "    <tr style=\"text-align: right;\">\n",
              "      <th>Class</th>\n",
              "      <th>2</th>\n",
              "      <th>4</th>\n",
              "    </tr>\n",
              "    <tr>\n",
              "      <th>labels</th>\n",
              "      <th></th>\n",
              "      <th></th>\n",
              "    </tr>\n",
              "  </thead>\n",
              "  <tbody>\n",
              "    <tr>\n",
              "      <th>0</th>\n",
              "      <td>7</td>\n",
              "      <td>87</td>\n",
              "    </tr>\n",
              "    <tr>\n",
              "      <th>1</th>\n",
              "      <td>444</td>\n",
              "      <td>10</td>\n",
              "    </tr>\n",
              "    <tr>\n",
              "      <th>2</th>\n",
              "      <td>7</td>\n",
              "      <td>64</td>\n",
              "    </tr>\n",
              "    <tr>\n",
              "      <th>3</th>\n",
              "      <td>0</td>\n",
              "      <td>80</td>\n",
              "    </tr>\n",
              "  </tbody>\n",
              "</table>\n",
              "</div>"
            ],
            "text/plain": [
              "Class     2   4\n",
              "labels         \n",
              "0         7  87\n",
              "1       444  10\n",
              "2         7  64\n",
              "3         0  80"
            ]
          },
          "metadata": {
            "tags": []
          },
          "execution_count": 101
        }
      ]
    },
    {
      "metadata": {
        "id": "9Olzg1Qk48ju",
        "colab_type": "code",
        "colab": {
          "base_uri": "https://localhost:8080/",
          "height": 106
        },
        "outputId": "3639a9a6-fc4d-46f1-c518-0910fe4d83cc"
      },
      "cell_type": "code",
      "source": [
        "# Implementing Normalization using StandardScaler\n",
        "from sklearn.preprocessing import StandardScaler\n",
        "from sklearn.pipeline import make_pipeline\n",
        "\n",
        "scaler = StandardScaler()\n",
        "kmeans = KMeans(n_clusters=2, n_init=20)\n",
        "pipeline = make_pipeline(scaler, kmeans)\n",
        "pipeline.fit(df.iloc[:,1:-1])\n",
        "\n",
        "pd.DataFrame(pipeline.named_steps['kmeans'].cluster_centers_, columns = df.iloc[:,1:10].columns)"
      ],
      "execution_count": 123,
      "outputs": [
        {
          "output_type": "execute_result",
          "data": {
            "text/html": [
              "<div>\n",
              "<style scoped>\n",
              "    .dataframe tbody tr th:only-of-type {\n",
              "        vertical-align: middle;\n",
              "    }\n",
              "\n",
              "    .dataframe tbody tr th {\n",
              "        vertical-align: top;\n",
              "    }\n",
              "\n",
              "    .dataframe thead th {\n",
              "        text-align: right;\n",
              "    }\n",
              "</style>\n",
              "<table border=\"1\" class=\"dataframe\">\n",
              "  <thead>\n",
              "    <tr style=\"text-align: right;\">\n",
              "      <th></th>\n",
              "      <th>A2</th>\n",
              "      <th>A3</th>\n",
              "      <th>A4</th>\n",
              "      <th>A5</th>\n",
              "      <th>A6</th>\n",
              "      <th>A7</th>\n",
              "      <th>A8</th>\n",
              "      <th>A9</th>\n",
              "      <th>A10</th>\n",
              "    </tr>\n",
              "  </thead>\n",
              "  <tbody>\n",
              "    <tr>\n",
              "      <th>0</th>\n",
              "      <td>0.986083</td>\n",
              "      <td>1.20602</td>\n",
              "      <td>1.196465</td>\n",
              "      <td>1.023233</td>\n",
              "      <td>1.012892</td>\n",
              "      <td>1.153757</td>\n",
              "      <td>1.088383</td>\n",
              "      <td>1.054751</td>\n",
              "      <td>0.603622</td>\n",
              "    </tr>\n",
              "    <tr>\n",
              "      <th>1</th>\n",
              "      <td>-0.496223</td>\n",
              "      <td>-0.60690</td>\n",
              "      <td>-0.602092</td>\n",
              "      <td>-0.514917</td>\n",
              "      <td>-0.509713</td>\n",
              "      <td>-0.580600</td>\n",
              "      <td>-0.547702</td>\n",
              "      <td>-0.530778</td>\n",
              "      <td>-0.303758</td>\n",
              "    </tr>\n",
              "  </tbody>\n",
              "</table>\n",
              "</div>"
            ],
            "text/plain": [
              "         A2       A3        A4        A5        A6        A7        A8  \\\n",
              "0  0.986083  1.20602  1.196465  1.023233  1.012892  1.153757  1.088383   \n",
              "1 -0.496223 -0.60690 -0.602092 -0.514917 -0.509713 -0.580600 -0.547702   \n",
              "\n",
              "         A9       A10  \n",
              "0  1.054751  0.603622  \n",
              "1 -0.530778 -0.303758  "
            ]
          },
          "metadata": {
            "tags": []
          },
          "execution_count": 123
        }
      ]
    },
    {
      "metadata": {
        "id": "7wCypt-a_fIR",
        "colab_type": "code",
        "colab": {
          "base_uri": "https://localhost:8080/",
          "height": 136
        },
        "outputId": "5326c5ac-24a8-44b0-c9be-f418111bce60"
      },
      "cell_type": "code",
      "source": [
        "# Cross tabulating the labels against \"Class\" after stardardization\n",
        "labels = pipeline.predict(df.iloc[:,1:-1])\n",
        "ctf_s = pd.DataFrame({'labels': labels, 'Class': df[\"Class\"]})\n",
        "pd.crosstab(ctf_s['labels'], ctf_s['Class'])                  "
      ],
      "execution_count": 115,
      "outputs": [
        {
          "output_type": "execute_result",
          "data": {
            "text/html": [
              "<div>\n",
              "<style scoped>\n",
              "    .dataframe tbody tr th:only-of-type {\n",
              "        vertical-align: middle;\n",
              "    }\n",
              "\n",
              "    .dataframe tbody tr th {\n",
              "        vertical-align: top;\n",
              "    }\n",
              "\n",
              "    .dataframe thead th {\n",
              "        text-align: right;\n",
              "    }\n",
              "</style>\n",
              "<table border=\"1\" class=\"dataframe\">\n",
              "  <thead>\n",
              "    <tr style=\"text-align: right;\">\n",
              "      <th>Class</th>\n",
              "      <th>2</th>\n",
              "      <th>4</th>\n",
              "    </tr>\n",
              "    <tr>\n",
              "      <th>labels</th>\n",
              "      <th></th>\n",
              "      <th></th>\n",
              "    </tr>\n",
              "  </thead>\n",
              "  <tbody>\n",
              "    <tr>\n",
              "      <th>0</th>\n",
              "      <td>12</td>\n",
              "      <td>222</td>\n",
              "    </tr>\n",
              "    <tr>\n",
              "      <th>1</th>\n",
              "      <td>446</td>\n",
              "      <td>19</td>\n",
              "    </tr>\n",
              "  </tbody>\n",
              "</table>\n",
              "</div>"
            ],
            "text/plain": [
              "Class     2    4\n",
              "labels          \n",
              "0        12  222\n",
              "1       446   19"
            ]
          },
          "metadata": {
            "tags": []
          },
          "execution_count": 115
        }
      ]
    }
  ]
}