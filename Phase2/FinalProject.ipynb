{
  "nbformat": 4,
  "nbformat_minor": 0,
  "metadata": {
    "colab": {
      "name": "FinalProject.ipynb",
      "version": "0.3.2",
      "provenance": [],
      "toc_visible": true,
      "include_colab_link": true
    },
    "kernelspec": {
      "name": "python3",
      "display_name": "Python 3"
    }
  },
  "cells": [
    {
      "cell_type": "markdown",
      "metadata": {
        "id": "view-in-github",
        "colab_type": "text"
      },
      "source": [
        "<a href=\"https://colab.research.google.com/github/Python-Charmer/Final-Project-Team-Python-Charmer/blob/master/Phase2/FinalProject.ipynb\" target=\"_parent\"><img src=\"https://colab.research.google.com/assets/colab-badge.svg\" alt=\"Open In Colab\"/></a>"
      ]
    },
    {
      "metadata": {
        "id": "ogLTuFYrGKiM",
        "colab_type": "text"
      },
      "cell_type": "markdown",
      "source": [
        "# Python Final Project - Team Python Charmers\n"
      ]
    },
    {
      "metadata": {
        "id": "T3pqMqKsGVMF",
        "colab_type": "code",
        "colab": {}
      },
      "cell_type": "code",
      "source": [
        "# Loading Packages\n",
        "import pandas as pd\n",
        "import numpy as np\n",
        "import matplotlib.pyplot as plt\n",
        "from sklearn.cluster import KMeans\n",
        "from sklearn.preprocessing import StandardScaler\n",
        "from sklearn.pipeline import make_pipeline"
      ],
      "execution_count": 0,
      "outputs": []
    },
    {
      "metadata": {
        "id": "1IPQxa43K3lS",
        "colab_type": "code",
        "colab": {}
      },
      "cell_type": "code",
      "source": [
        "# Loading Data From Source.\n",
        "def load_data():\n",
        "  url = r'https://raw.githubusercontent.com/Python-Charmer/Final-Project-Team-Python-Charmer/master/Phase1/Data/BreastCancerWisconsin.csv'\n",
        "  df = pd.read_csv(url)\n",
        "  names = ['Scn','A2','A3','A4','A5','A6','A7', 'A8','A9','A10','Class']\n",
        "  df.columns = names\n",
        "  return df"
      ],
      "execution_count": 0,
      "outputs": []
    },
    {
      "metadata": {
        "id": "1u47FI5ELaky",
        "colab_type": "code",
        "colab": {}
      },
      "cell_type": "code",
      "source": [
        "# Understanding Missing Values\n",
        "def clean_missing(df):\n",
        "  df['A7'] = df['A7'].replace('?',np.NaN)\n",
        "  df['A7'] = pd.to_numeric(df['A7'])\n",
        "  print(\"Below are how many missing values for each column\\n\")\n",
        "  print(df.isnull().sum())\n",
        "  print(\"\\nCleaning missing values with column means\\n\")\n",
        "  df = df.fillna(round(df.mean(skipna = True),2))\n",
        "  print(df.isnull().sum())\n",
        "  return df\n",
        "  "
      ],
      "execution_count": 0,
      "outputs": []
    },
    {
      "metadata": {
        "id": "Tf8EQpgxmsji",
        "colab_type": "code",
        "colab": {}
      },
      "cell_type": "code",
      "source": [
        "# Calculating Summary Metrics\n",
        "def  sum_metrics(df):\n",
        "  print(\"\\n Below are the summary metrics of the data \\n\" + str(df.describe()))\n",
        "  print (\"\\n\\nThere are \" + str(df.shape[0]) + \" rows and \" + str(df.shape[1]) + \" Columns in this data frame\")\n",
        "  print(\"\\nThere are \" + str(len(df['Scn'].unique())) + \" unique scn values in the dataset.\\n\")\n",
        "  print(\"Below are the duplicate rows in the dataset.\\n\")\n",
        "  print(str(df.loc[df.duplicated(), :]) + \"\\n\")"
      ],
      "execution_count": 0,
      "outputs": []
    },
    {
      "metadata": {
        "id": "TS3YVaUci2Cy",
        "colab_type": "code",
        "colab": {}
      },
      "cell_type": "code",
      "source": [
        "# Plotting graphs\n",
        "def plot_graphs(df):\n",
        "  print(\"\\nBelow are the histograms of A2:A10 \\n\")\n",
        "  df.iloc[:,1:10].hist(bins = 8, color=\"blue\", grid=\"False\",alpha = .5, figsize=(12,6))\n",
        "  plt.tight_layout(rect=(0,0,1.2,1.2))\n",
        "  plt.show()\n",
        "  df['Class'].value_counts().plot.bar().set_title(\"Class Variable: 2 = Benign 4 = Malignant\")\n",
        "  df.plot.scatter(x='A3', y='A4').set_title(\"Scatter of A3 & A4 90% corr\")\n"
      ],
      "execution_count": 0,
      "outputs": []
    },
    {
      "metadata": {
        "id": "-r_vIkrilJDn",
        "colab_type": "code",
        "outputId": "4a9d8992-0838-482c-c3fe-b21a1011548b",
        "colab": {
          "base_uri": "https://localhost:8080/",
          "height": 510
        }
      },
      "cell_type": "code",
      "source": [
        "# Main Function\n",
        "df = load_data()\n",
        "df = clean_missing(df)\n",
        "#sum_metrics(df)\n",
        "#plot_graphs(df)"
      ],
      "execution_count": 59,
      "outputs": [
        {
          "output_type": "stream",
          "text": [
            "Below are how many missing values for each column\n",
            "\n",
            "Scn       0\n",
            "A2        0\n",
            "A3        0\n",
            "A4        0\n",
            "A5        0\n",
            "A6        0\n",
            "A7       16\n",
            "A8        0\n",
            "A9        0\n",
            "A10       0\n",
            "Class     0\n",
            "dtype: int64\n",
            "\n",
            "Cleaning missing values with column means\n",
            "\n",
            "Scn      0\n",
            "A2       0\n",
            "A3       0\n",
            "A4       0\n",
            "A5       0\n",
            "A6       0\n",
            "A7       0\n",
            "A8       0\n",
            "A9       0\n",
            "A10      0\n",
            "Class    0\n",
            "dtype: int64\n"
          ],
          "name": "stdout"
        }
      ]
    },
    {
      "metadata": {
        "id": "qh9vKJqfnsC4",
        "colab_type": "code",
        "outputId": "e0e51d9f-b279-4908-b4db-4ba775925bf6",
        "colab": {
          "base_uri": "https://localhost:8080/",
          "height": 34
        }
      },
      "cell_type": "code",
      "source": [
        "print(\"The columns that need standardization are: A7,A3,& A9 because they have the highest amount of variance compared to other factors.\")"
      ],
      "execution_count": 41,
      "outputs": [
        {
          "output_type": "stream",
          "text": [
            "The columns that need standardization are: A7,A3,& A9 because they have the highest amount of variance compared to other factors.\n"
          ],
          "name": "stdout"
        }
      ]
    },
    {
      "metadata": {
        "id": "-hlKAZsp9dFE",
        "colab_type": "code",
        "colab": {}
      },
      "cell_type": "code",
      "source": [
        "#Use KMeans algorithm (do not use column CLASS) 10pts\n",
        "#Find the optimal number of clusters 10 pts\n",
        "#Revise data variation 10pts\n",
        "#Implement normalization 8pts\n",
        "#Update your github code 2pts"
      ],
      "execution_count": 0,
      "outputs": []
    },
    {
      "metadata": {
        "id": "wKli4Vn7ULP3",
        "colab_type": "code",
        "colab": {
          "base_uri": "https://localhost:8080/",
          "height": 173
        },
        "outputId": "e975f994-5369-40dd-c48a-4ce501f5aa3c"
      },
      "cell_type": "code",
      "source": [
        "X  = df.drop(['Scn','Class'], axis  = 1)\n",
        "y = df['Class']\n",
        "\n",
        "clss = KMeans(n_clusters = 4) \n",
        "clss.fit(X)\n",
        "cent = clss.cluster_centers_\n",
        "pd.DataFrame(cent ,columns  = X.columns)"
      ],
      "execution_count": 202,
      "outputs": [
        {
          "output_type": "execute_result",
          "data": {
            "text/html": [
              "<div>\n",
              "<style scoped>\n",
              "    .dataframe tbody tr th:only-of-type {\n",
              "        vertical-align: middle;\n",
              "    }\n",
              "\n",
              "    .dataframe tbody tr th {\n",
              "        vertical-align: top;\n",
              "    }\n",
              "\n",
              "    .dataframe thead th {\n",
              "        text-align: right;\n",
              "    }\n",
              "</style>\n",
              "<table border=\"1\" class=\"dataframe\">\n",
              "  <thead>\n",
              "    <tr style=\"text-align: right;\">\n",
              "      <th></th>\n",
              "      <th>A2</th>\n",
              "      <th>A3</th>\n",
              "      <th>A4</th>\n",
              "      <th>A5</th>\n",
              "      <th>A6</th>\n",
              "      <th>A7</th>\n",
              "      <th>A8</th>\n",
              "      <th>A9</th>\n",
              "      <th>A10</th>\n",
              "    </tr>\n",
              "  </thead>\n",
              "  <tbody>\n",
              "    <tr>\n",
              "      <th>0</th>\n",
              "      <td>2.944934</td>\n",
              "      <td>1.244493</td>\n",
              "      <td>1.365639</td>\n",
              "      <td>1.292952</td>\n",
              "      <td>2.039648</td>\n",
              "      <td>1.351278</td>\n",
              "      <td>2.061674</td>\n",
              "      <td>1.200441</td>\n",
              "      <td>1.077093</td>\n",
              "    </tr>\n",
              "    <tr>\n",
              "      <th>1</th>\n",
              "      <td>7.464789</td>\n",
              "      <td>7.028169</td>\n",
              "      <td>6.676056</td>\n",
              "      <td>4.197183</td>\n",
              "      <td>5.535211</td>\n",
              "      <td>3.452958</td>\n",
              "      <td>5.380282</td>\n",
              "      <td>6.816901</td>\n",
              "      <td>2.309859</td>\n",
              "    </tr>\n",
              "    <tr>\n",
              "      <th>2</th>\n",
              "      <td>7.234043</td>\n",
              "      <td>4.851064</td>\n",
              "      <td>5.042553</td>\n",
              "      <td>4.861702</td>\n",
              "      <td>4.117021</td>\n",
              "      <td>9.382979</td>\n",
              "      <td>5.265957</td>\n",
              "      <td>3.787234</td>\n",
              "      <td>1.648936</td>\n",
              "    </tr>\n",
              "    <tr>\n",
              "      <th>3</th>\n",
              "      <td>6.762500</td>\n",
              "      <td>8.387500</td>\n",
              "      <td>8.425000</td>\n",
              "      <td>7.750000</td>\n",
              "      <td>6.775000</td>\n",
              "      <td>9.212500</td>\n",
              "      <td>7.375000</td>\n",
              "      <td>7.737500</td>\n",
              "      <td>3.787500</td>\n",
              "    </tr>\n",
              "  </tbody>\n",
              "</table>\n",
              "</div>"
            ],
            "text/plain": [
              "         A2        A3        A4        A5        A6        A7        A8  \\\n",
              "0  2.944934  1.244493  1.365639  1.292952  2.039648  1.351278  2.061674   \n",
              "1  7.464789  7.028169  6.676056  4.197183  5.535211  3.452958  5.380282   \n",
              "2  7.234043  4.851064  5.042553  4.861702  4.117021  9.382979  5.265957   \n",
              "3  6.762500  8.387500  8.425000  7.750000  6.775000  9.212500  7.375000   \n",
              "\n",
              "         A9       A10  \n",
              "0  1.200441  1.077093  \n",
              "1  6.816901  2.309859  \n",
              "2  3.787234  1.648936  \n",
              "3  7.737500  3.787500  "
            ]
          },
          "metadata": {
            "tags": []
          },
          "execution_count": 202
        }
      ]
    },
    {
      "metadata": {
        "id": "Ro6HG9jo52yi",
        "colab_type": "code",
        "colab": {
          "base_uri": "https://localhost:8080/",
          "height": 376
        },
        "outputId": "a2ea8ada-8c93-4c3d-ab2d-0f214f86e25b"
      },
      "cell_type": "code",
      "source": [
        "\n",
        "def find_optimal_K(X,y):\n",
        "  inertia = []\n",
        "  k = []\n",
        "  for i in range(1,15):\n",
        "    clss = KMeans(n_clusters = i) \n",
        "    clss.fit(X)\n",
        "    iner = clss.inertia_\n",
        "    k.append(i)\n",
        "    inertia.append(iner)\n",
        "  res  = pd.concat([pd.DataFrame(k), pd.DataFrame(inertia)],axis = 1)\n",
        "  res.columns = ['K','Inertia']\n",
        "  ax = res.plot(\"K\",marker='o', linestyle='dashed', title = \"Optimal K = 2\" )\n",
        "  ax.set_xlabel(\"Number of Clusters\")\n",
        "  ax.set_ylabel(\"Inertia\")\n",
        "  \n",
        " \n",
        "find_optimal_K(X,y)"
      ],
      "execution_count": 206,
      "outputs": [
        {
          "output_type": "display_data",
          "data": {
            "image/png": "[encoded data removed]",
            "text/plain": [
              "<matplotlib.figure.Figure at 0x7efcf0f1e4e0>"
            ]
          },
          "metadata": {
            "tags": []
          }
        }
      ]
    },
    {
      "metadata": {
        "id": "JXFSa8T3Vz7g",
        "colab_type": "code",
        "colab": {
          "base_uri": "https://localhost:8080/",
          "height": 401
        },
        "outputId": "4ad2fe54-7416-4586-b620-c4b2ba9a8830"
      },
      "cell_type": "code",
      "source": [
        "\n",
        "st = pd.DataFrame(X.std()).sort_values(by = 0, ascending = False)\n",
        "x = st.plot(kind = 'bar')\n",
        "x.set_xticklabels(st.index)\n",
        "x.set_xlabel(\"Columns\")\n",
        "x.set_ylabel(\"Standard Deviation\")\n",
        "x.set_title(\"STD Of Factors\")"
      ],
      "execution_count": 232,
      "outputs": [
        {
          "output_type": "execute_result",
          "data": {
            "text/plain": [
              "Text(0.5,1,'STD Of Factors')"
            ]
          },
          "metadata": {
            "tags": []
          },
          "execution_count": 232
        },
        {
          "output_type": "display_data",
          "data": {
            "image/png": "[encoded data removed]",
            "text/plain": [
              "<matplotlib.figure.Figure at 0x7efcf0ced5f8>"
            ]
          },
          "metadata": {
            "tags": []
          }
        }
      ]
    },
    {
      "metadata": {
        "id": "mEs-GRV3XeSq",
        "colab_type": "code",
        "colab": {
          "base_uri": "https://localhost:8080/",
          "height": 111
        },
        "outputId": "c1abb99b-8ddc-4806-e3d0-36910cfe7a4b"
      },
      "cell_type": "code",
      "source": [
        "mdl = make_pipeline(StandardScaler(), KMeans(n_clusters = 2, n_init=20))\n",
        "mdl.fit(X)\n",
        "centers = pd.DataFrame(mdl.named_steps['kmeans'].cluster_centers_)\n",
        "centers.columns = X.columns\n",
        "centers\n",
        "\n"
      ],
      "execution_count": 247,
      "outputs": [
        {
          "output_type": "execute_result",
          "data": {
            "text/html": [
              "<div>\n",
              "<style scoped>\n",
              "    .dataframe tbody tr th:only-of-type {\n",
              "        vertical-align: middle;\n",
              "    }\n",
              "\n",
              "    .dataframe tbody tr th {\n",
              "        vertical-align: top;\n",
              "    }\n",
              "\n",
              "    .dataframe thead th {\n",
              "        text-align: right;\n",
              "    }\n",
              "</style>\n",
              "<table border=\"1\" class=\"dataframe\">\n",
              "  <thead>\n",
              "    <tr style=\"text-align: right;\">\n",
              "      <th></th>\n",
              "      <th>A2</th>\n",
              "      <th>A3</th>\n",
              "      <th>A4</th>\n",
              "      <th>A5</th>\n",
              "      <th>A6</th>\n",
              "      <th>A7</th>\n",
              "      <th>A8</th>\n",
              "      <th>A9</th>\n",
              "      <th>A10</th>\n",
              "    </tr>\n",
              "  </thead>\n",
              "  <tbody>\n",
              "    <tr>\n",
              "      <th>0</th>\n",
              "      <td>0.986083</td>\n",
              "      <td>1.20602</td>\n",
              "      <td>1.196465</td>\n",
              "      <td>1.023233</td>\n",
              "      <td>1.012892</td>\n",
              "      <td>1.153765</td>\n",
              "      <td>1.088383</td>\n",
              "      <td>1.054751</td>\n",
              "      <td>0.603622</td>\n",
              "    </tr>\n",
              "    <tr>\n",
              "      <th>1</th>\n",
              "      <td>-0.496223</td>\n",
              "      <td>-0.60690</td>\n",
              "      <td>-0.602092</td>\n",
              "      <td>-0.514917</td>\n",
              "      <td>-0.509713</td>\n",
              "      <td>-0.580604</td>\n",
              "      <td>-0.547702</td>\n",
              "      <td>-0.530778</td>\n",
              "      <td>-0.303758</td>\n",
              "    </tr>\n",
              "  </tbody>\n",
              "</table>\n",
              "</div>"
            ],
            "text/plain": [
              "         A2       A3        A4        A5        A6        A7        A8  \\\n",
              "0  0.986083  1.20602  1.196465  1.023233  1.012892  1.153765  1.088383   \n",
              "1 -0.496223 -0.60690 -0.602092 -0.514917 -0.509713 -0.580604 -0.547702   \n",
              "\n",
              "         A9       A10  \n",
              "0  1.054751  0.603622  \n",
              "1 -0.530778 -0.303758  "
            ]
          },
          "metadata": {
            "tags": []
          },
          "execution_count": 247
        }
      ]
    },
    {
      "metadata": {
        "id": "EKbjxQdHNsrY",
        "colab_type": "code",
        "colab": {}
      },
      "cell_type": "code",
      "source": [
        ""
      ],
      "execution_count": 0,
      "outputs": []
    }
  ]
}