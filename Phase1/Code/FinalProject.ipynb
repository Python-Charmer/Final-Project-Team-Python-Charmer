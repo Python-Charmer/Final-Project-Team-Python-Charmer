{
  "nbformat": 4,
  "nbformat_minor": 0,
  "metadata": {
    "colab": {
      "name": "FinalProject.ipynb",
      "version": "0.3.2",
      "provenance": [],
      "toc_visible": true,
      "include_colab_link": true
    },
    "kernelspec": {
      "name": "python3",
      "display_name": "Python 3"
    }
  },
  "cells": [
    {
      "cell_type": "markdown",
      "metadata": {
        "id": "view-in-github",
        "colab_type": "text"
      },
      "source": [
        "<a href=\"https://colab.research.google.com/github/Python-Charmer/Final-Project-Team-Python-Charmer/blob/master/Phase1/Code/FinalProject.ipynb\" target=\"_parent\"><img src=\"https://colab.research.google.com/assets/colab-badge.svg\" alt=\"Open In Colab\"/></a>"
      ]
    },
    {
      "metadata": {
        "id": "ogLTuFYrGKiM",
        "colab_type": "text"
      },
      "cell_type": "markdown",
      "source": [
        "# Python Final Project - Team Python Charmers\n"
      ]
    },
    {
      "metadata": {
        "id": "T3pqMqKsGVMF",
        "colab_type": "code",
        "colab": {}
      },
      "cell_type": "code",
      "source": [
        "import pandas as pd\n",
        "import numpy as np"
      ],
      "execution_count": 0,
      "outputs": []
    },
    {
      "metadata": {
        "id": "1IPQxa43K3lS",
        "colab_type": "code",
        "colab": {}
      },
      "cell_type": "code",
      "source": [
        "def load_data():\n",
        "  url = r'https://raw.githubusercontent.com/Python-Charmer/Final-Project-Team-Python-Charmer/master/Phase1/Data/BreastCancerWisconsin.csv'\n",
        "  df = pd.read_csv(url)\n",
        "  names = ['Scn','A2','A3','A4','A5','A6','A7', 'A8','A9','A10','Class']\n",
        "  df.columns = names\n",
        "  df['A7'] = df['A7'].replace('?',np.NaN)\n",
        "  df['A7'] = pd.to_numeric(df['A7'])\n",
        "  return df"
      ],
      "execution_count": 0,
      "outputs": []
    },
    {
      "metadata": {
        "id": "1u47FI5ELaky",
        "colab_type": "code",
        "colab": {}
      },
      "cell_type": "code",
      "source": [
        "#There are 16 Null Values in Column A7\n",
        "def clean_missing(df):\n",
        "  print(\"Below are how many missing values for each column\")\n",
        "  print(df.isnull().sum())\n",
        "  df = df.fillna(df.mean(skipna = True))\n",
        "  return df\n",
        "  "
      ],
      "execution_count": 0,
      "outputs": []
    },
    {
      "metadata": {
        "id": "Tf8EQpgxmsji",
        "colab_type": "code",
        "colab": {}
      },
      "cell_type": "code",
      "source": [
        "def  sum_metrics(df):\n",
        "  print(\"\\n Below are the summary metrics of the data \\n\" + str(df.describe()))\n",
        "  print (\"\\n\\nThere are \" + str(df.shape[0]) + \" rows and \" + str(df.shape[1]) + \" Columns in this data frame\")\n",
        "  print(\"\\nThere are \" + str(len(df['Scn'].unique())) + \" unique values in the dataset.\")"
      ],
      "execution_count": 0,
      "outputs": []
    },
    {
      "metadata": {
        "id": "-r_vIkrilJDn",
        "colab_type": "code",
        "outputId": "fd3fee2c-594a-47b1-bd54-877670187175",
        "colab": {
          "base_uri": "https://localhost:8080/",
          "height": 680
        }
      },
      "cell_type": "code",
      "source": [
        "df = load_data()\n",
        "df = clean_missing(df)\n",
        "sum_metrics(df)"
      ],
      "execution_count": 0,
      "outputs": [
        {
          "output_type": "stream",
          "text": [
            "Below are how many missing values for each columns\n",
            "Scn       0\n",
            "A2        0\n",
            "A3        0\n",
            "A4        0\n",
            "A5        0\n",
            "A6        0\n",
            "A7       16\n",
            "A8        0\n",
            "A9        0\n",
            "A10       0\n",
            "Class     0\n",
            "dtype: int64\n",
            "\n",
            " Below are the summary metrics of the data \n",
            "                Scn          A2          A3          A4          A5  \\\n",
            "count  6.990000e+02  699.000000  699.000000  699.000000  699.000000   \n",
            "mean   1.071704e+06    4.417740    3.134478    3.207439    2.806867   \n",
            "std    6.170957e+05    2.815741    3.051459    2.971913    2.855379   \n",
            "min    6.163400e+04    1.000000    1.000000    1.000000    1.000000   \n",
            "25%    8.706885e+05    2.000000    1.000000    1.000000    1.000000   \n",
            "50%    1.171710e+06    4.000000    1.000000    1.000000    1.000000   \n",
            "75%    1.238298e+06    6.000000    5.000000    5.000000    4.000000   \n",
            "max    1.345435e+07   10.000000   10.000000   10.000000   10.000000   \n",
            "\n",
            "               A6          A7          A8          A9         A10       Class  \n",
            "count  699.000000  699.000000  699.000000  699.000000  699.000000  699.000000  \n",
            "mean     3.216023    3.544656    3.437768    2.866953    1.589413    2.689557  \n",
            "std      2.214300    3.601852    2.438364    3.053634    1.715078    0.951273  \n",
            "min      1.000000    1.000000    1.000000    1.000000    1.000000    2.000000  \n",
            "25%      2.000000    1.000000    2.000000    1.000000    1.000000    2.000000  \n",
            "50%      2.000000    1.000000    3.000000    1.000000    1.000000    2.000000  \n",
            "75%      4.000000    5.000000    5.000000    4.000000    1.000000    4.000000  \n",
            "max     10.000000   10.000000   10.000000   10.000000   10.000000    4.000000  \n",
            "\n",
            "\n",
            "There are 699 rows and 11 Columns in this data frame\n",
            "\n",
            "There are 645 unique values in the dataset.\n"
          ],
          "name": "stdout"
        }
      ]
    }
  ]
}