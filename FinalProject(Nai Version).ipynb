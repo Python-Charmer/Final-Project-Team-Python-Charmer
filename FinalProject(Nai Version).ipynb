{
  "nbformat": 4,
  "nbformat_minor": 0,
  "metadata": {
    "colab": {
      "name": "FinalProject.ipynb",
      "version": "0.3.2",
      "provenance": [],
      "toc_visible": true,
      "include_colab_link": true
    },
    "kernelspec": {
      "name": "python3",
      "display_name": "Python 3"
    }
  },
  "cells": [
    {
      "cell_type": "markdown",
      "metadata": {
        "id": "view-in-github",
        "colab_type": "text"
      },
      "source": [
        "<a href=\"https://colab.research.google.com/github/Python-Charmer/Final-Project-Team-Python-Charmer/blob/master/FinalProject(Nai%20Version).ipynb\" target=\"_parent\"><img src=\"https://colab.research.google.com/assets/colab-badge.svg\" alt=\"Open In Colab\"/></a>"
      ]
    },
    {
      "metadata": {
        "id": "ogLTuFYrGKiM",
        "colab_type": "text"
      },
      "cell_type": "markdown",
      "source": [
        "# Python Final Project - Team Python Charmers\n"
      ]
    },
    {
      "metadata": {
        "id": "T3pqMqKsGVMF",
        "colab_type": "code",
        "colab": {}
      },
      "cell_type": "code",
      "source": [
        "import pandas as pd"
      ],
      "execution_count": 0,
      "outputs": []
    },
    {
      "metadata": {
        "id": "1IPQxa43K3lS",
        "colab_type": "code",
        "colab": {}
      },
      "cell_type": "code",
      "source": [
        "#Loading The Data Set\n",
        "def load_data():\n",
        "  url = 'https://archive.ics.uci.edu/ml/machine-learning-databases/breast-cancer-wisconsin/breast-cancer-wisconsin.data'\n",
        "  df = pd.read_csv(url, header  = None , na_values='?')\n",
        "  names = ['Scn','A2','A3','A4','A5','A6','A7', 'A8','A9','A10','Class']\n",
        "  df.columns = names\n",
        "  return df\n",
        "\n"
      ],
      "execution_count": 0,
      "outputs": []
    },
    {
      "metadata": {
        "id": "1u47FI5ELaky",
        "colab_type": "code",
        "colab": {}
      },
      "cell_type": "code",
      "source": [
        "#Replacing missing values with medians \n",
        "def clear_missing (df):\n",
        "  is_null = pd.isnull(df).any()\n",
        "  for i in is_null.index:\n",
        "     if is_null[i] == True:\n",
        "        print(\"Cleaning Missing Values From \" + str(i) + \" by replacing them with median \" + str(df[i].median()))\n",
        "        df[i].plot(kind = 'hist')\n",
        "        df[i].fillna(df[i].median(), inplace = True)\n",
        "        return df\n",
        "\n",
        "   "
      ],
      "execution_count": 0,
      "outputs": []
    },
    {
      "metadata": {
        "id": "0cUrAnkaTsfl",
        "colab_type": "code",
        "colab": {}
      },
      "cell_type": "code",
      "source": [
        "def plot_hist(df):\n",
        "  for i in df.columns:\n",
        "    df[i].plot(kind = 'hist', bins = 2)"
      ],
      "execution_count": 0,
      "outputs": []
    },
    {
      "metadata": {
        "id": "wUJJ04zRQ5aU",
        "colab_type": "code",
        "colab": {
          "base_uri": "https://localhost:8080/",
          "height": 364
        },
        "outputId": "e13063b8-3d50-4cc0-a95d-3a046d77b7b4"
      },
      "cell_type": "code",
      "source": [
        "df = load_data()\n",
        "df = clear_missing(df)"
      ],
      "execution_count": 55,
      "outputs": [
        {
          "output_type": "stream",
          "text": [
            "Cleaning Missing Values From A7 by replacing them with median1.0\n"
          ],
          "name": "stdout"
        },
        {
          "output_type": "display_data",
          "data": {
            "image/png": "[encoded data removed]",
            "text/plain": [
              "<matplotlib.figure.Figure at 0x7fbe01d87e48>"
            ]
          },
          "metadata": {
            "tags": []
          }
        }
      ]
    },
    {
      "metadata": {
        "id": "HQUH2Xu1T_8V",
        "colab_type": "code",
        "colab": {
          "base_uri": "https://localhost:8080/",
          "height": 360
        },
        "outputId": "557ff801-ce77-4772-ee6f-025d181bef5b"
      },
      "cell_type": "code",
      "source": [
        "plot_hist(df)"
      ],
      "execution_count": 60,
      "outputs": [
        {
          "output_type": "display_data",
          "data": {
            "image/png": "[encoded data removed]",
            "text/plain": [
              "<matplotlib.figure.Figure at 0x7fbe01b81da0>"
            ]
          },
          "metadata": {
            "tags": []
          }
        }
      ]
    },
    {
      "metadata": {
        "id": "JrQbeIDzSMUa",
        "colab_type": "code",
        "colab": {}
      },
      "cell_type": "code",
      "source": [
        ""
      ],
      "execution_count": 0,
      "outputs": []
    }
  ]
}