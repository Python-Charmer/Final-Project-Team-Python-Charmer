{
  "nbformat": 4,
  "nbformat_minor": 0,
  "metadata": {
    "colab": {
      "name": "FinalProject_Mallik_P3.ipynb",
      "version": "0.3.2",
      "provenance": [],
      "collapsed_sections": [],
      "toc_visible": true,
      "include_colab_link": true
    },
    "kernelspec": {
      "name": "python3",
      "display_name": "Python 3"
    }
  },
  "cells": [
    {
      "cell_type": "markdown",
      "metadata": {
        "id": "view-in-github",
        "colab_type": "text"
      },
      "source": [
        "<a href=\"https://colab.research.google.com/github/Python-Charmer/Final-Project-Team-Python-Charmer/blob/master/FinalProject_Mallik_P3.ipynb\" target=\"_parent\"><img src=\"https://colab.research.google.com/assets/colab-badge.svg\" alt=\"Open In Colab\"/></a>"
      ]
    },
    {
      "metadata": {
        "id": "ogLTuFYrGKiM",
        "colab_type": "text"
      },
      "cell_type": "markdown",
      "source": [
        "# Python Final Project - Team Python Charmers\n"
      ]
    },
    {
      "metadata": {
        "id": "T3pqMqKsGVMF",
        "colab_type": "code",
        "colab": {}
      },
      "cell_type": "code",
      "source": [
        "# Loading Packages\n",
        "import pandas as pd\n",
        "import numpy as np\n",
        "import matplotlib.pyplot as plt"
      ],
      "execution_count": 0,
      "outputs": []
    },
    {
      "metadata": {
        "id": "1IPQxa43K3lS",
        "colab_type": "code",
        "colab": {}
      },
      "cell_type": "code",
      "source": [
        "# Loading Data From Source.\n",
        "def load_data():\n",
        "  url = r'https://raw.githubusercontent.com/Python-Charmer/Final-Project-Team-Python-Charmer/master/Phase1/Data/BreastCancerWisconsin.csv'\n",
        "  df = pd.read_csv(url)\n",
        "  names = ['Scn','A2','A3','A4','A5','A6','A7', 'A8','A9','A10','Class']\n",
        "  df.columns = names\n",
        "  return df"
      ],
      "execution_count": 0,
      "outputs": []
    },
    {
      "metadata": {
        "id": "1u47FI5ELaky",
        "colab_type": "code",
        "colab": {}
      },
      "cell_type": "code",
      "source": [
        "# Understanding Missing Values\n",
        "def clean_missing(df):\n",
        "  df['A7'] = df['A7'].replace('?',np.NaN)\n",
        "  df['A7'] = pd.to_numeric(df['A7'])\n",
        "  print(\"Below are how many missing values for each column\\n\")\n",
        "  print(df.isnull().sum())\n",
        "  print(\"\\nCleaning missing values with column means\\n\")\n",
        "  df = df.fillna(df.mean(skipna = True))\n",
        "  print(df.isnull().sum())\n",
        "  return df\n",
        "  "
      ],
      "execution_count": 0,
      "outputs": []
    },
    {
      "metadata": {
        "id": "Tf8EQpgxmsji",
        "colab_type": "code",
        "colab": {}
      },
      "cell_type": "code",
      "source": [
        "# Calculating Summary Metrics\n",
        "def  sum_metrics(df):\n",
        "  print(\"\\n Below are the summary metrics of the data \\n\" + str(df.describe()))\n",
        "  print (\"\\n\\nThere are \" + str(df.shape[0]) + \" rows and \" + str(df.shape[1]) + \" Columns in this data frame\")\n",
        "  print(\"\\nThere are \" + str(len(df['Scn'].unique())) + \" unique scn values in the dataset.\\n\")\n",
        "  print(\"Below are the duplicate rows in the dataset.\\n\")\n",
        "  print(str(df.loc[df.duplicated(), :]) + \"\\n\")"
      ],
      "execution_count": 0,
      "outputs": []
    },
    {
      "metadata": {
        "id": "TS3YVaUci2Cy",
        "colab_type": "code",
        "colab": {}
      },
      "cell_type": "code",
      "source": [
        "# Plotting graphs\n",
        "def plot_graphs(df):\n",
        "  print(\"\\nBelow are the histograms of A2:A10 \\n\")\n",
        "  df.iloc[:,1:10].hist(bins = 8, color=\"blue\", grid=\"False\",alpha = .5, figsize=(12,6))\n",
        "  plt.tight_layout(rect=(0,0,1.2,1.2))\n",
        "  plt.show()\n",
        "  df['Class'].value_counts().plot.bar().set_title(\"Class Variable: 2 = Benign 4 = Malignant\")\n",
        "  df.plot.scatter(x='A3', y='A4').set_title(\"Scatter of A3 & A4 90% corr\")\n"
      ],
      "execution_count": 0,
      "outputs": []
    },
    {
      "metadata": {
        "id": "-r_vIkrilJDn",
        "colab_type": "code",
        "outputId": "43053909-5f98-4808-852e-296ae436f37b",
        "colab": {
          "base_uri": "https://localhost:8080/",
          "height": 2416
        }
      },
      "cell_type": "code",
      "source": [
        "# Main Function\n",
        "if __name__ == \"__main__\":\n",
        "  df = load_data()\n",
        "  df = clean_missing(df)\n",
        "  sum_metrics(df)\n",
        "  plot_graphs(df)"
      ],
      "execution_count": 6,
      "outputs": [
        {
          "output_type": "stream",
          "text": [
            "Below are how many missing values for each column\n",
            "\n",
            "Scn       0\n",
            "A2        0\n",
            "A3        0\n",
            "A4        0\n",
            "A5        0\n",
            "A6        0\n",
            "A7       16\n",
            "A8        0\n",
            "A9        0\n",
            "A10       0\n",
            "Class     0\n",
            "dtype: int64\n",
            "\n",
            "Cleaning missing values with column means\n",
            "\n",
            "Scn      0\n",
            "A2       0\n",
            "A3       0\n",
            "A4       0\n",
            "A5       0\n",
            "A6       0\n",
            "A7       0\n",
            "A8       0\n",
            "A9       0\n",
            "A10      0\n",
            "Class    0\n",
            "dtype: int64\n",
            "\n",
            " Below are the summary metrics of the data \n",
            "                Scn          A2          A3          A4          A5  \\\n",
            "count  6.990000e+02  699.000000  699.000000  699.000000  699.000000   \n",
            "mean   1.071704e+06    4.417740    3.134478    3.207439    2.806867   \n",
            "std    6.170957e+05    2.815741    3.051459    2.971913    2.855379   \n",
            "min    6.163400e+04    1.000000    1.000000    1.000000    1.000000   \n",
            "25%    8.706885e+05    2.000000    1.000000    1.000000    1.000000   \n",
            "50%    1.171710e+06    4.000000    1.000000    1.000000    1.000000   \n",
            "75%    1.238298e+06    6.000000    5.000000    5.000000    4.000000   \n",
            "max    1.345435e+07   10.000000   10.000000   10.000000   10.000000   \n",
            "\n",
            "               A6          A7          A8          A9         A10       Class  \n",
            "count  699.000000  699.000000  699.000000  699.000000  699.000000  699.000000  \n",
            "mean     3.216023    3.544656    3.437768    2.866953    1.589413    2.689557  \n",
            "std      2.214300    3.601852    2.438364    3.053634    1.715078    0.951273  \n",
            "min      1.000000    1.000000    1.000000    1.000000    1.000000    2.000000  \n",
            "25%      2.000000    1.000000    2.000000    1.000000    1.000000    2.000000  \n",
            "50%      2.000000    1.000000    3.000000    1.000000    1.000000    2.000000  \n",
            "75%      4.000000    5.000000    5.000000    4.000000    1.000000    4.000000  \n",
            "max     10.000000   10.000000   10.000000   10.000000   10.000000    4.000000  \n",
            "\n",
            "\n",
            "There are 699 rows and 11 Columns in this data frame\n",
            "\n",
            "There are 645 unique scn values in the dataset.\n",
            "\n",
            "Below are the duplicate rows in the dataset.\n",
            "\n",
            "         Scn  A2  A3  A4  A5  A6    A7  A8  A9  A10  Class\n",
            "208  1218860   1   1   1   1   1   1.0   3   1    1      2\n",
            "253  1100524   6  10  10   2   8  10.0   7   3    3      4\n",
            "254  1116116   9  10  10   1  10   8.0   3   3    1      4\n",
            "258  1198641   3   1   1   1   2   1.0   3   1    1      2\n",
            "272   320675   3   3   5   2   3  10.0   7   1    1      4\n",
            "338   704097   1   1   1   1   1   1.0   2   1    1      2\n",
            "561  1321942   5   1   1   1   2   1.0   3   1    1      2\n",
            "684   466906   1   1   1   1   2   1.0   1   1    1      2\n",
            "\n",
            "\n",
            "Below are the histograms of A2:A10 \n",
            "\n"
          ],
          "name": "stdout"
        },
        {
          "output_type": "display_data",
          "data": {
            "image/png": "[encoded data removed]",
            "text/plain": [
              "<matplotlib.figure.Figure at 0x7f2ea50f9e10>"
            ]
          },
          "metadata": {
            "tags": []
          }
        },
        {
          "output_type": "display_data",
          "data": {
            "image/png": "[encoded data removed]",
            "text/plain": [
              "<matplotlib.figure.Figure at 0x7f2ea2161eb8>"
            ]
          },
          "metadata": {
            "tags": []
          }
        },
        {
          "output_type": "display_data",
          "data": {
            "image/png": "[encoded data removed]",
            "text/plain": [
              "<matplotlib.figure.Figure at 0x7f2ea20f6a58>"
            ]
          },
          "metadata": {
            "tags": []
          }
        }
      ]
    },
    {
      "metadata": {
        "id": "qh9vKJqfnsC4",
        "colab_type": "code",
        "outputId": "08225f77-8dbe-45b2-f587-4917db0db49a",
        "colab": {
          "base_uri": "https://localhost:8080/",
          "height": 34
        }
      },
      "cell_type": "code",
      "source": [
        "print(\"The columns that need standardization are: A7,A3,& A9 because they have the highest amount of variance compared to other factors.\")"
      ],
      "execution_count": 7,
      "outputs": [
        {
          "output_type": "stream",
          "text": [
            "The columns that need standardization are: A7,A3,& A9 because they have the highest amount of variance compared to other factors.\n"
          ],
          "name": "stdout"
        }
      ]
    },
    {
      "metadata": {
        "id": "-hlKAZsp9dFE",
        "colab_type": "code",
        "outputId": "bd74b05c-1af4-4c8f-a780-2285fc28fb8c",
        "colab": {
          "base_uri": "https://localhost:8080/",
          "height": 166
        }
      },
      "cell_type": "code",
      "source": [
        "# KMeans algorithm using 4 clusters and calculating centroids\n",
        "from sklearn.cluster import KMeans\n",
        "import matplotlib.pyplot as plt\n",
        "cancer = KMeans(n_clusters = 4)\n",
        "cancer.fit(df.iloc[:,1:-1])\n",
        "centroids = cancer.cluster_centers_\n",
        "pd.DataFrame(centroids, columns = df.iloc[:,1:10].columns)"
      ],
      "execution_count": 8,
      "outputs": [
        {
          "output_type": "execute_result",
          "data": {
            "text/html": [
              "<div>\n",
              "<style scoped>\n",
              "    .dataframe tbody tr th:only-of-type {\n",
              "        vertical-align: middle;\n",
              "    }\n",
              "\n",
              "    .dataframe tbody tr th {\n",
              "        vertical-align: top;\n",
              "    }\n",
              "\n",
              "    .dataframe thead th {\n",
              "        text-align: right;\n",
              "    }\n",
              "</style>\n",
              "<table border=\"1\" class=\"dataframe\">\n",
              "  <thead>\n",
              "    <tr style=\"text-align: right;\">\n",
              "      <th></th>\n",
              "      <th>A2</th>\n",
              "      <th>A3</th>\n",
              "      <th>A4</th>\n",
              "      <th>A5</th>\n",
              "      <th>A6</th>\n",
              "      <th>A7</th>\n",
              "      <th>A8</th>\n",
              "      <th>A9</th>\n",
              "      <th>A10</th>\n",
              "    </tr>\n",
              "  </thead>\n",
              "  <tbody>\n",
              "    <tr>\n",
              "      <th>0</th>\n",
              "      <td>2.944934</td>\n",
              "      <td>1.244493</td>\n",
              "      <td>1.365639</td>\n",
              "      <td>1.292952</td>\n",
              "      <td>2.039648</td>\n",
              "      <td>1.351401</td>\n",
              "      <td>2.061674</td>\n",
              "      <td>1.200441</td>\n",
              "      <td>1.077093</td>\n",
              "    </tr>\n",
              "    <tr>\n",
              "      <th>1</th>\n",
              "      <td>7.234043</td>\n",
              "      <td>4.851064</td>\n",
              "      <td>5.042553</td>\n",
              "      <td>4.861702</td>\n",
              "      <td>4.117021</td>\n",
              "      <td>9.382979</td>\n",
              "      <td>5.265957</td>\n",
              "      <td>3.787234</td>\n",
              "      <td>1.648936</td>\n",
              "    </tr>\n",
              "    <tr>\n",
              "      <th>2</th>\n",
              "      <td>7.464789</td>\n",
              "      <td>7.028169</td>\n",
              "      <td>6.676056</td>\n",
              "      <td>4.197183</td>\n",
              "      <td>5.535211</td>\n",
              "      <td>3.453220</td>\n",
              "      <td>5.380282</td>\n",
              "      <td>6.816901</td>\n",
              "      <td>2.309859</td>\n",
              "    </tr>\n",
              "    <tr>\n",
              "      <th>3</th>\n",
              "      <td>6.762500</td>\n",
              "      <td>8.387500</td>\n",
              "      <td>8.425000</td>\n",
              "      <td>7.750000</td>\n",
              "      <td>6.775000</td>\n",
              "      <td>9.212500</td>\n",
              "      <td>7.375000</td>\n",
              "      <td>7.737500</td>\n",
              "      <td>3.787500</td>\n",
              "    </tr>\n",
              "  </tbody>\n",
              "</table>\n",
              "</div>"
            ],
            "text/plain": [
              "         A2        A3        A4        A5        A6        A7        A8  \\\n",
              "0  2.944934  1.244493  1.365639  1.292952  2.039648  1.351401  2.061674   \n",
              "1  7.234043  4.851064  5.042553  4.861702  4.117021  9.382979  5.265957   \n",
              "2  7.464789  7.028169  6.676056  4.197183  5.535211  3.453220  5.380282   \n",
              "3  6.762500  8.387500  8.425000  7.750000  6.775000  9.212500  7.375000   \n",
              "\n",
              "         A9       A10  \n",
              "0  1.200441  1.077093  \n",
              "1  3.787234  1.648936  \n",
              "2  6.816901  2.309859  \n",
              "3  7.737500  3.787500  "
            ]
          },
          "metadata": {
            "tags": []
          },
          "execution_count": 8
        }
      ]
    },
    {
      "metadata": {
        "id": "VvDoHKWgpHE0",
        "colab_type": "code",
        "outputId": "06819dcd-036a-4017-9680-a833e7713ada",
        "colab": {
          "base_uri": "https://localhost:8080/",
          "height": 376
        }
      },
      "cell_type": "code",
      "source": [
        "# Calculating Inertia \n",
        "ks = range(1,16)\n",
        "inertias = []\n",
        "for k in ks:\n",
        "  model = KMeans(n_clusters=k)\n",
        "  model.fit(df.iloc[:,1:-1])\n",
        "  inertias.append(model.inertia_)\n",
        "plt.plot(ks, inertias, '-o')\n",
        "plt.title('Cluster Number vs Inertias')\n",
        "plt.xlabel('Number of Clusters, k')\n",
        "plt.ylabel('Inertia')\n",
        "plt.xticks(ks)\n",
        "plt.show()"
      ],
      "execution_count": 9,
      "outputs": [
        {
          "output_type": "display_data",
          "data": {
            "image/png": "[encoded data removed]",
            "text/plain": [
              "<matplotlib.figure.Figure at 0x7f2ea2014048>"
            ]
          },
          "metadata": {
            "tags": []
          }
        }
      ]
    },
    {
      "metadata": {
        "id": "XbcBn8N4rwCm",
        "colab_type": "code",
        "cellView": "code",
        "colab": {}
      },
      "cell_type": "code",
      "source": [
        "# Based on the above plot, optimal number of clusters is 2"
      ],
      "execution_count": 0,
      "outputs": []
    },
    {
      "metadata": {
        "id": "eLauJ4aIsHXU",
        "colab_type": "code",
        "outputId": "34a6b322-aede-4ba8-f8f1-7c350c5339b0",
        "colab": {
          "base_uri": "https://localhost:8080/",
          "height": 376
        }
      },
      "cell_type": "code",
      "source": [
        "# Calculating Standard deviations of all features to inspect variation\n",
        "SD = df.iloc[:,1:-1].std()\n",
        "plt.plot(SD.sort_values(ascending = False),'o')\n",
        "plt.title(\"SD of Features\")\n",
        "plt.xlabel(\"Columns\")\n",
        "plt.ylabel(\"Standard Deviation\")\n",
        "plt.xticks(df.iloc[:,1:-1].columns)\n",
        "plt.show()"
      ],
      "execution_count": 11,
      "outputs": [
        {
          "output_type": "display_data",
          "data": {
            "image/png": "[encoded data removed]",
            "text/plain": [
              "<matplotlib.figure.Figure at 0x7f2ea49ae588>"
            ]
          },
          "metadata": {
            "tags": []
          }
        }
      ]
    },
    {
      "metadata": {
        "id": "7YGXkoaPLEyD",
        "colab_type": "code",
        "outputId": "b41db016-5d99-45bd-c975-6b6fa95c02c2",
        "colab": {
          "base_uri": "https://localhost:8080/",
          "height": 381
        }
      },
      "cell_type": "code",
      "source": [
        "# Box plot showing variation of the columns A2:A10\n",
        "data = []\n",
        "for i in range(1, 10):\n",
        "    data.append(df.iloc[:, i])\n",
        "\n",
        "# Multiple box plots on one Axes\n",
        "fig, ax = plt.subplots()\n",
        "plt.title(\"Boxplot showing Variation of Features\")\n",
        "plt.xlabel(\"Columns A2 thru A10\")\n",
        "plt.ylabel(\"Values\")\n",
        "ax.boxplot(data, 0)\n",
        "top = 12\n",
        "bottom = -2\n",
        "ax.set_ylim(bottom, top)\n",
        "ax.set_xticklabels(df.iloc[:,1:-1].columns, rotation=45, fontsize=8)\n",
        "\n",
        "plt.show()"
      ],
      "execution_count": 12,
      "outputs": [
        {
          "output_type": "display_data",
          "data": {
            "image/png": "[encoded data removed]",
            "text/plain": [
              "<matplotlib.figure.Figure at 0x7f2ea20c8780>"
            ]
          },
          "metadata": {
            "tags": []
          }
        }
      ]
    },
    {
      "metadata": {
        "id": "UFXvTnpR16mB",
        "colab_type": "code",
        "outputId": "9e9490d2-0377-426c-8e73-5bb2adcd92c8",
        "colab": {
          "base_uri": "https://localhost:8080/",
          "height": 195
        }
      },
      "cell_type": "code",
      "source": [
        "# Cross tabulating the cluster labels with \"Class\"\n",
        "labels = cancer.fit_predict(df.iloc[:,1:-1])\n",
        "ctf = pd.DataFrame({'labels': labels, 'Class': df[\"Class\"]})\n",
        "pd.crosstab(ctf['labels'], ctf['Class'])                  "
      ],
      "execution_count": 13,
      "outputs": [
        {
          "output_type": "execute_result",
          "data": {
            "text/html": [
              "<div>\n",
              "<style scoped>\n",
              "    .dataframe tbody tr th:only-of-type {\n",
              "        vertical-align: middle;\n",
              "    }\n",
              "\n",
              "    .dataframe tbody tr th {\n",
              "        vertical-align: top;\n",
              "    }\n",
              "\n",
              "    .dataframe thead th {\n",
              "        text-align: right;\n",
              "    }\n",
              "</style>\n",
              "<table border=\"1\" class=\"dataframe\">\n",
              "  <thead>\n",
              "    <tr style=\"text-align: right;\">\n",
              "      <th>Class</th>\n",
              "      <th>2</th>\n",
              "      <th>4</th>\n",
              "    </tr>\n",
              "    <tr>\n",
              "      <th>labels</th>\n",
              "      <th></th>\n",
              "      <th></th>\n",
              "    </tr>\n",
              "  </thead>\n",
              "  <tbody>\n",
              "    <tr>\n",
              "      <th>0</th>\n",
              "      <td>7</td>\n",
              "      <td>64</td>\n",
              "    </tr>\n",
              "    <tr>\n",
              "      <th>1</th>\n",
              "      <td>444</td>\n",
              "      <td>10</td>\n",
              "    </tr>\n",
              "    <tr>\n",
              "      <th>2</th>\n",
              "      <td>7</td>\n",
              "      <td>87</td>\n",
              "    </tr>\n",
              "    <tr>\n",
              "      <th>3</th>\n",
              "      <td>0</td>\n",
              "      <td>80</td>\n",
              "    </tr>\n",
              "  </tbody>\n",
              "</table>\n",
              "</div>"
            ],
            "text/plain": [
              "Class     2   4\n",
              "labels         \n",
              "0         7  64\n",
              "1       444  10\n",
              "2         7  87\n",
              "3         0  80"
            ]
          },
          "metadata": {
            "tags": []
          },
          "execution_count": 13
        }
      ]
    },
    {
      "metadata": {
        "id": "9Olzg1Qk48ju",
        "colab_type": "code",
        "outputId": "e3d04dbe-9cff-4a85-a583-58ec72ffe650",
        "colab": {
          "base_uri": "https://localhost:8080/",
          "height": 106
        }
      },
      "cell_type": "code",
      "source": [
        "# Implementing Normalization using StandardScaler\n",
        "from sklearn.preprocessing import StandardScaler\n",
        "from sklearn.pipeline import make_pipeline\n",
        "\n",
        "scaler = StandardScaler()\n",
        "kmeans = KMeans(n_clusters=2, n_init=20)\n",
        "pipeline = make_pipeline(scaler, kmeans)\n",
        "pipeline.fit(df.iloc[:,1:-1])\n",
        "\n",
        "pd.DataFrame(pipeline.named_steps['kmeans'].cluster_centers_, columns = df.iloc[:,1:10].columns)"
      ],
      "execution_count": 14,
      "outputs": [
        {
          "output_type": "execute_result",
          "data": {
            "text/html": [
              "<div>\n",
              "<style scoped>\n",
              "    .dataframe tbody tr th:only-of-type {\n",
              "        vertical-align: middle;\n",
              "    }\n",
              "\n",
              "    .dataframe tbody tr th {\n",
              "        vertical-align: top;\n",
              "    }\n",
              "\n",
              "    .dataframe thead th {\n",
              "        text-align: right;\n",
              "    }\n",
              "</style>\n",
              "<table border=\"1\" class=\"dataframe\">\n",
              "  <thead>\n",
              "    <tr style=\"text-align: right;\">\n",
              "      <th></th>\n",
              "      <th>A2</th>\n",
              "      <th>A3</th>\n",
              "      <th>A4</th>\n",
              "      <th>A5</th>\n",
              "      <th>A6</th>\n",
              "      <th>A7</th>\n",
              "      <th>A8</th>\n",
              "      <th>A9</th>\n",
              "      <th>A10</th>\n",
              "    </tr>\n",
              "  </thead>\n",
              "  <tbody>\n",
              "    <tr>\n",
              "      <th>0</th>\n",
              "      <td>-0.501553</td>\n",
              "      <td>-0.612495</td>\n",
              "      <td>-0.609632</td>\n",
              "      <td>-0.523014</td>\n",
              "      <td>-0.523092</td>\n",
              "      <td>-0.589147</td>\n",
              "      <td>-0.553567</td>\n",
              "      <td>-0.533629</td>\n",
              "      <td>-0.307207</td>\n",
              "    </tr>\n",
              "    <tr>\n",
              "      <th>1</th>\n",
              "      <td>0.971495</td>\n",
              "      <td>1.186388</td>\n",
              "      <td>1.180841</td>\n",
              "      <td>1.013064</td>\n",
              "      <td>1.013217</td>\n",
              "      <td>1.141162</td>\n",
              "      <td>1.072245</td>\n",
              "      <td>1.033626</td>\n",
              "      <td>0.595052</td>\n",
              "    </tr>\n",
              "  </tbody>\n",
              "</table>\n",
              "</div>"
            ],
            "text/plain": [
              "         A2        A3        A4        A5        A6        A7        A8  \\\n",
              "0 -0.501553 -0.612495 -0.609632 -0.523014 -0.523092 -0.589147 -0.553567   \n",
              "1  0.971495  1.186388  1.180841  1.013064  1.013217  1.141162  1.072245   \n",
              "\n",
              "         A9       A10  \n",
              "0 -0.533629 -0.307207  \n",
              "1  1.033626  0.595052  "
            ]
          },
          "metadata": {
            "tags": []
          },
          "execution_count": 14
        }
      ]
    },
    {
      "metadata": {
        "id": "7wCypt-a_fIR",
        "colab_type": "code",
        "outputId": "2477882b-24ba-4f2c-c779-8f1e24f93f0f",
        "colab": {
          "base_uri": "https://localhost:8080/",
          "height": 136
        }
      },
      "cell_type": "code",
      "source": [
        "# Cross tabulating the labels against \"Class\" after stardardization\n",
        "labels = pipeline.predict(df.iloc[:,1:-1])\n",
        "ctf_s = pd.DataFrame({'labels': labels, 'Class': df[\"Class\"]})\n",
        "pd.crosstab(ctf_s['labels'], ctf_s['Class'])                  "
      ],
      "execution_count": 15,
      "outputs": [
        {
          "output_type": "execute_result",
          "data": {
            "text/html": [
              "<div>\n",
              "<style scoped>\n",
              "    .dataframe tbody tr th:only-of-type {\n",
              "        vertical-align: middle;\n",
              "    }\n",
              "\n",
              "    .dataframe tbody tr th {\n",
              "        vertical-align: top;\n",
              "    }\n",
              "\n",
              "    .dataframe thead th {\n",
              "        text-align: right;\n",
              "    }\n",
              "</style>\n",
              "<table border=\"1\" class=\"dataframe\">\n",
              "  <thead>\n",
              "    <tr style=\"text-align: right;\">\n",
              "      <th>Class</th>\n",
              "      <th>2</th>\n",
              "      <th>4</th>\n",
              "    </tr>\n",
              "    <tr>\n",
              "      <th>labels</th>\n",
              "      <th></th>\n",
              "      <th></th>\n",
              "    </tr>\n",
              "  </thead>\n",
              "  <tbody>\n",
              "    <tr>\n",
              "      <th>0</th>\n",
              "      <td>446</td>\n",
              "      <td>15</td>\n",
              "    </tr>\n",
              "    <tr>\n",
              "      <th>1</th>\n",
              "      <td>12</td>\n",
              "      <td>226</td>\n",
              "    </tr>\n",
              "  </tbody>\n",
              "</table>\n",
              "</div>"
            ],
            "text/plain": [
              "Class     2    4\n",
              "labels          \n",
              "0       446   15\n",
              "1        12  226"
            ]
          },
          "metadata": {
            "tags": []
          },
          "execution_count": 15
        }
      ]
    },
    {
      "metadata": {
        "id": "-DG-_u7dHQtO",
        "colab_type": "code",
        "colab": {
          "base_uri": "https://localhost:8080/",
          "height": 756
        },
        "outputId": "5a93a9cc-7cd0-421d-ca43-9bb5e2788cb6"
      },
      "cell_type": "code",
      "source": [
        "X = df.drop(['Scn','Class'], axis  = 1)\n",
        "mdl =  make_pipeline(StandardScaler(), KMeans(n_clusters = 2, n_init=20, max_iter = 500))\n",
        "labels = mdl.fit_predict(X)\n",
        "df['Predicted'] = labels\n",
        "\n",
        "df['Predicted'] = df['Predicted'].replace(0, 2)\n",
        "df['Predicted'] = df['Predicted'].replace(1, 4)\n",
        "\n",
        "df.head(15)\n",
        "\n",
        "# Method-1\n",
        "def error_rate(predicted,actual):\n",
        "  total2, total4, error2, error4 = 0,0,0,0\n",
        "  for i in range(df.shape[0]):\n",
        "    if predicted[i] == 2:\n",
        "        total2 += 1\n",
        "        if actual[i] == 4:\n",
        "            error4 += 1\n",
        "    elif predicted[i] == 4:\n",
        "        total4 += 1\n",
        "        if actual[i] == 2:\n",
        "            error2 += 1\n",
        "\n",
        "  B  = str(round(error2/total2,4)*100) + \"%\"\n",
        "  M = str(round(error4/total4,4)*100) + \"%\"\n",
        "  tot_error = str(round((error2 + error4)/(total2 + total4),4)*100) + \"%\"\n",
        "  \n",
        "  print(\"The error rate for beningn cells is \" + str(B) + \"\\n\")\n",
        "  print(\"The error rate for malignent cells is \" +str(M) + \"\\n\")\n",
        "  print(\"The total error rate is \" +str(tot_error) + \"\\n\")\n",
        "              \n",
        "error_rate(df['Predicted'], df['Class'])\n",
        "\n",
        "# Method-2\n",
        "error24 = df[(df.Class == 2) & (df.Predicted == 4)]['Class'].count()\n",
        "error42 = df[(df.Class == 4) & (df.Predicted == 2)]['Class'].count()\n",
        "total22 = df[(df.Predicted == 2)]['Class'].count()\n",
        "total44 = df[(df.Predicted == 4)]['Class'].count()\n",
        "\n",
        "\n",
        "B2  = str(round(error24/total22,4)*100) + \"%\"\n",
        "M2 = str(round(error42/total44,4)*100) + \"%\"\n",
        "tot_error2 = str(round((error24 + error42)/(total22 + total44),4)*100) + \"%\"\n",
        "  \n",
        "print(\"The error rate for beningn cells is \" + str(B2) + \"\\n\")\n",
        "print(\"The error rate for malignent cells is \" +str(M2) + \"\\n\")\n",
        "print(\"The total error rate is \" +str(tot_error2) + \"\\n\")\n",
        "\n",
        "tab = pd.crosstab(df['Predicted'], df['Class'])\n",
        "tab\n",
        "\n",
        "print(df[(df.Class == 2) & (df.Predicted == 4)])\n",
        "print(df[(df.Class == 4) & (df.Predicted == 2)])"
      ],
      "execution_count": 17,
      "outputs": [
        {
          "output_type": "stream",
          "text": [
            "The error rate for beningn cells is 2.59%\n",
            "\n",
            "The error rate for malignent cells is 7.66%\n",
            "\n",
            "The total error rate is 4.29%\n",
            "\n",
            "The error rate for beningn cells is 2.59%\n",
            "\n",
            "The error rate for malignent cells is 7.66%\n",
            "\n",
            "The total error rate is 4.29%\n",
            "\n",
            "         Scn  A2  A3  A4  A5  A6         A7  A8  A9  A10  Class  Predicted\n",
            "1    1002945   5   4   4   5   7  10.000000   3   2    1      2          4\n",
            "3    1016277   6   8   8   1   3   4.000000   3   7    1      2          4\n",
            "40   1096800   6   6   6   9   6   3.544656   7   8    1      2          4\n",
            "196  1213375   8   4   4   5   4   7.000000   7   8    2      2          4\n",
            "252  1017023   6   3   3   5   3  10.000000   3   5    3      2          4\n",
            "259   242970   5   7   7   1   5   8.000000   3   4    1      2          4\n",
            "296   616240   5   3   4   3   4   5.000000   4   7    1      2          4\n",
            "315   704168   4   6   5   6   7   3.544656   4   9    1      2          4\n",
            "319   721482   4   4   4   4   6   5.000000   7   3    1      2          4\n",
            "352   846832   3   4   5   3   7   3.000000   4   6    1      2          4\n",
            "434  1293439   6   9   7   5   5   8.000000   4   2    1      2          4\n",
            "657  1333877   5   4   5   1   8   1.000000   3   6    1      2          4\n",
            "         Scn  A2  A3  A4  A5  A6    A7  A8  A9  A10  Class  Predicted\n",
            "12   1041801   5   3   3   3   2   3.0   4   4    1      4          2\n",
            "25   1065726   5   2   3   4   2   7.0   3   6    1      4          2\n",
            "51   1108449   5   3   3   4   2   4.0   3   4    1      4          2\n",
            "57   1113038   8   2   4   1   5   1.0   5   4    4      4          2\n",
            "58   1113483   5   2   3   1   6  10.0   5   1    1      4          2\n",
            "59   1113906   9   5   5   2   2   2.0   5   1    1      4          2\n",
            "63   1116132   6   3   4   1   5   2.0   3   9    1      4          2\n",
            "101  1167439   2   3   4   4   2   5.0   2   5    1      4          2\n",
            "103  1168359   8   2   3   1   6   3.0   7   1    1      4          2\n",
            "146  1185609   3   4   5   2   6   8.0   4   1    1      4          2\n",
            "222  1226012   4   1   1   3   1   5.0   2   1    1      4          2\n",
            "247   145447   8   4   4   1   2   9.0   3   3    1      4          2\n",
            "273   428903   7   2   4   1   3   4.0   3   3    1      4          2\n",
            "326   752904  10   1   1   1   2  10.0   5   4    1      4          2\n",
            "348   832226   3   4   4  10   5   1.0   3   3    1      4          2\n",
            "356   859164   5   3   3   1   3   3.0   3   3    3      4          2\n",
            "455  1246562  10   2   2   1   2   6.0   1   1    2      4          2\n",
            "489  1084139   6   3   2   1   3   4.0   4   1    1      4          2\n"
          ],
          "name": "stdout"
        }
      ]
    }
  ]
}