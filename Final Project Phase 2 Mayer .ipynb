{
 "cells": [
  {
   "cell_type": "code",
   "execution_count": 34,
   "metadata": {},
   "outputs": [],
   "source": [
    "# Loading Packages\n",
    "import pandas as pd\n",
    "import numpy as np\n",
    "import matplotlib.pyplot as plt\n",
    "from sklearn.cluster import KMeans"
   ]
  },
  {
   "cell_type": "code",
   "execution_count": 35,
   "metadata": {},
   "outputs": [],
   "source": [
    "# Loading Data From Source.\n",
    "def load_data():\n",
    "  url = r'https://raw.githubusercontent.com/Python-Charmer/Final-Project-Team-Python-Charmer/master/Phase1/Data/BreastCancerWisconsin.csv'\n",
    "  df = pd.read_csv(url)\n",
    "  names = ['Scn','A2','A3','A4','A5','A6','A7', 'A8','A9','A10','Class']\n",
    "  df.columns = names\n",
    "  return df"
   ]
  },
  {
   "cell_type": "code",
   "execution_count": 36,
   "metadata": {},
   "outputs": [],
   "source": [
    "# Understanding Missing Values\n",
    "def clean_missing(df):\n",
    "  df['A7'] = df['A7'].replace('?',np.NaN)\n",
    "  df['A7'] = pd.to_numeric(df['A7'])\n",
    "  # print(\"Below are how many missing values for each column\\n\")\n",
    "  # print(df.isnull().sum())\n",
    "  # print(\"\\nCleaning missing values with column means\\n\")\n",
    "  df = df.fillna(df.mean(skipna = True))\n",
    "  # print(df.isnull().sum())\n",
    "  return df"
   ]
  },
  {
   "cell_type": "code",
   "execution_count": 37,
   "metadata": {},
   "outputs": [],
   "source": [
    "# Plotting graphs\n",
    "def plot_graphs(df):\n",
    "  print(\"\\nBelow are the histograms of A2:A10 \\n\")\n",
    "  df.iloc[:,1:10].hist(bins = 8, color=\"blue\", grid=\"False\",alpha = .5, figsize=(12,6))\n",
    "  plt.tight_layout(rect=(0,0,1.2,1.2))\n",
    "  plt.show()\n",
    "  df['Class'].value_counts().plot.bar().set_title(\"Class Variable: 2 = Benign 4 = Malignant\")\n",
    "  df.plot.scatter(x='A3', y='A4').set_title(\"Scatter of A3 & A4 90% corr\")"
   ]
  },
  {
   "cell_type": "code",
   "execution_count": 38,
   "metadata": {},
   "outputs": [],
   "source": [
    "# Main Function\n",
    "df = load_data()\n",
    "df = clean_missing(df)\n",
    "#sum_metrics(df)\n",
    "#plot_graphs(df)"
   ]
  },
  {
   "cell_type": "code",
   "execution_count": 39,
   "metadata": {},
   "outputs": [
    {
     "data": {
      "text/html": [
       "<div>\n",
       "<style scoped>\n",
       "    .dataframe tbody tr th:only-of-type {\n",
       "        vertical-align: middle;\n",
       "    }\n",
       "\n",
       "    .dataframe tbody tr th {\n",
       "        vertical-align: top;\n",
       "    }\n",
       "\n",
       "    .dataframe thead th {\n",
       "        text-align: right;\n",
       "    }\n",
       "</style>\n",
       "<table border=\"1\" class=\"dataframe\">\n",
       "  <thead>\n",
       "    <tr style=\"text-align: right;\">\n",
       "      <th></th>\n",
       "      <th>A2</th>\n",
       "      <th>A3</th>\n",
       "      <th>A4</th>\n",
       "      <th>A5</th>\n",
       "      <th>A6</th>\n",
       "      <th>A7</th>\n",
       "      <th>A8</th>\n",
       "      <th>A9</th>\n",
       "      <th>A10</th>\n",
       "    </tr>\n",
       "  </thead>\n",
       "  <tbody>\n",
       "    <tr>\n",
       "      <th>0</th>\n",
       "      <td>2.956140</td>\n",
       "      <td>1.252193</td>\n",
       "      <td>1.377193</td>\n",
       "      <td>1.311404</td>\n",
       "      <td>2.052632</td>\n",
       "      <td>1.349859</td>\n",
       "      <td>2.070175</td>\n",
       "      <td>1.210526</td>\n",
       "      <td>1.083333</td>\n",
       "    </tr>\n",
       "    <tr>\n",
       "      <th>1</th>\n",
       "      <td>6.679487</td>\n",
       "      <td>8.346154</td>\n",
       "      <td>8.384615</td>\n",
       "      <td>7.782051</td>\n",
       "      <td>6.692308</td>\n",
       "      <td>9.333333</td>\n",
       "      <td>7.358974</td>\n",
       "      <td>7.820513</td>\n",
       "      <td>3.769231</td>\n",
       "    </tr>\n",
       "    <tr>\n",
       "      <th>2</th>\n",
       "      <td>7.661538</td>\n",
       "      <td>7.507692</td>\n",
       "      <td>7.092308</td>\n",
       "      <td>4.338462</td>\n",
       "      <td>5.923077</td>\n",
       "      <td>3.532830</td>\n",
       "      <td>5.584615</td>\n",
       "      <td>7.061538</td>\n",
       "      <td>2.461538</td>\n",
       "    </tr>\n",
       "    <tr>\n",
       "      <th>3</th>\n",
       "      <td>7.210000</td>\n",
       "      <td>4.810000</td>\n",
       "      <td>4.990000</td>\n",
       "      <td>4.750000</td>\n",
       "      <td>4.050000</td>\n",
       "      <td>9.045447</td>\n",
       "      <td>5.220000</td>\n",
       "      <td>3.830000</td>\n",
       "      <td>1.630000</td>\n",
       "    </tr>\n",
       "  </tbody>\n",
       "</table>\n",
       "</div>"
      ],
      "text/plain": [
       "         A2        A3        A4        A5        A6        A7        A8  \\\n",
       "0  2.956140  1.252193  1.377193  1.311404  2.052632  1.349859  2.070175   \n",
       "1  6.679487  8.346154  8.384615  7.782051  6.692308  9.333333  7.358974   \n",
       "2  7.661538  7.507692  7.092308  4.338462  5.923077  3.532830  5.584615   \n",
       "3  7.210000  4.810000  4.990000  4.750000  4.050000  9.045447  5.220000   \n",
       "\n",
       "         A9       A10  \n",
       "0  1.210526  1.083333  \n",
       "1  7.820513  3.769231  \n",
       "2  7.061538  2.461538  \n",
       "3  3.830000  1.630000  "
      ]
     },
     "execution_count": 39,
     "metadata": {},
     "output_type": "execute_result"
    }
   ],
   "source": [
    "#Implementing K-Means and show Centoids\n",
    "#KMeans algorithm using 4 clusters and calculating centroids\n",
    "from sklearn.cluster import KMeans\n",
    "import matplotlib.pyplot as plt\n",
    "cancer = KMeans(n_clusters = 4)\n",
    "cancer.fit(df.iloc[:,1:-1])\n",
    "centroids = cancer.cluster_centers_\n",
    "pd.DataFrame(centroids, columns = df.iloc[:,1:-1].columns)"
   ]
  },
  {
   "cell_type": "code",
   "execution_count": 40,
   "metadata": {},
   "outputs": [
    {
     "data": {
      "image/png": "[encoded data removed]",
      "text/plain": [
       "<Figure size 432x288 with 1 Axes>"
      ]
     },
     "metadata": {},
     "output_type": "display_data"
    }
   ],
   "source": [
    "# Calculate Intertia\n",
    "ks = range(1,16)\n",
    "inertias = []\n",
    "for k in ks:\n",
    "  model = KMeans(n_clusters=k)\n",
    "  model.fit(df.iloc[:,1:-1])\n",
    "  inertias.append(model.inertia_)\n",
    "plt.plot(ks, inertias, '-o')\n",
    "plt.title('Cluster Number vs Inertias')\n",
    "plt.xlabel('Number of Clusters, k')\n",
    "plt.ylabel('Inertia')\n",
    "plt.xticks(ks)\n",
    "plt.show()\n"
   ]
  },
  {
   "cell_type": "code",
   "execution_count": 41,
   "metadata": {},
   "outputs": [
    {
     "data": {
      "image/png": "[encoded data removed]",
      "text/plain": [
       "<Figure size 432x288 with 1 Axes>"
      ]
     },
     "metadata": {},
     "output_type": "display_data"
    }
   ],
   "source": [
    "# Calculating Standard deviations of all features to inspect variation\n",
    "SD = df.iloc[:,1:-1].std()\n",
    "plt.plot(SD.sort_values(ascending = False),'o')\n",
    "plt.title(\"SD of Features\")\n",
    "plt.xlabel(\"Columns\")\n",
    "plt.ylabel(\"Standard Deviation\")\n",
    "plt.xticks(df.iloc[:,1:-1].columns)\n",
    "plt.show()"
   ]
  },
  {
   "cell_type": "code",
   "execution_count": 42,
   "metadata": {},
   "outputs": [
    {
     "data": {
      "text/html": [
       "<div>\n",
       "<style scoped>\n",
       "    .dataframe tbody tr th:only-of-type {\n",
       "        vertical-align: middle;\n",
       "    }\n",
       "\n",
       "    .dataframe tbody tr th {\n",
       "        vertical-align: top;\n",
       "    }\n",
       "\n",
       "    .dataframe thead th {\n",
       "        text-align: right;\n",
       "    }\n",
       "</style>\n",
       "<table border=\"1\" class=\"dataframe\">\n",
       "  <thead>\n",
       "    <tr style=\"text-align: right;\">\n",
       "      <th></th>\n",
       "      <th>A2</th>\n",
       "      <th>A3</th>\n",
       "      <th>A4</th>\n",
       "      <th>A5</th>\n",
       "      <th>A6</th>\n",
       "      <th>A7</th>\n",
       "      <th>A8</th>\n",
       "      <th>A9</th>\n",
       "      <th>A10</th>\n",
       "    </tr>\n",
       "  </thead>\n",
       "  <tbody>\n",
       "    <tr>\n",
       "      <th>0</th>\n",
       "      <td>-0.496223</td>\n",
       "      <td>-0.60690</td>\n",
       "      <td>-0.602092</td>\n",
       "      <td>-0.514917</td>\n",
       "      <td>-0.509713</td>\n",
       "      <td>-0.580600</td>\n",
       "      <td>-0.547702</td>\n",
       "      <td>-0.530778</td>\n",
       "      <td>-0.303758</td>\n",
       "    </tr>\n",
       "    <tr>\n",
       "      <th>1</th>\n",
       "      <td>0.986083</td>\n",
       "      <td>1.20602</td>\n",
       "      <td>1.196465</td>\n",
       "      <td>1.023233</td>\n",
       "      <td>1.012892</td>\n",
       "      <td>1.153757</td>\n",
       "      <td>1.088383</td>\n",
       "      <td>1.054751</td>\n",
       "      <td>0.603622</td>\n",
       "    </tr>\n",
       "  </tbody>\n",
       "</table>\n",
       "</div>"
      ],
      "text/plain": [
       "         A2       A3        A4        A5        A6        A7        A8  \\\n",
       "0 -0.496223 -0.60690 -0.602092 -0.514917 -0.509713 -0.580600 -0.547702   \n",
       "1  0.986083  1.20602  1.196465  1.023233  1.012892  1.153757  1.088383   \n",
       "\n",
       "         A9       A10  \n",
       "0 -0.530778 -0.303758  \n",
       "1  1.054751  0.603622  "
      ]
     },
     "execution_count": 42,
     "metadata": {},
     "output_type": "execute_result"
    }
   ],
   "source": [
    "# Implementing Normalization using StandardScaler\n",
    "from sklearn.preprocessing import StandardScaler\n",
    "from sklearn.pipeline import make_pipeline\n",
    "\n",
    "scaler = StandardScaler()\n",
    "kmeans = KMeans(n_clusters=2, n_init=20)\n",
    "pipeline = make_pipeline(scaler, kmeans)\n",
    "pipeline.fit(df.iloc[:,1:-1])                    \n",
    "\n",
    "pd.DataFrame(pipeline.named_steps['kmeans'].cluster_centers_, columns = df.iloc[:,1:10].columns)"
   ]
  },
  {
   "cell_type": "code",
   "execution_count": 48,
   "metadata": {},
   "outputs": [
    {
     "data": {
      "image/png": "[encoded data removed]",
      "text/plain": [
       "<Figure size 432x288 with 1 Axes>"
      ]
     },
     "metadata": {},
     "output_type": "display_data"
    }
   ],
   "source": [
    "# Box plot showing variation of the columns A2:A10\n",
    "data = []\n",
    "for i in range(1, 10):\n",
    "    data.append(df.iloc[:, i])\n",
    "\n",
    "# Multiple box plots on one Axes\n",
    "fig, ax = plt.subplots()\n",
    "plt.title(\"Boxplot showing Variation of Features\")\n",
    "plt.xlabel(\"Columns A2 thru A10\")\n",
    "plt.ylabel(\"Values\")\n",
    "ax.boxplot(data, 0,showbox=True,showmeans=True)\n",
    "top = 12\n",
    "bottom = -2\n",
    "ax.set_ylim(bottom, top)\n",
    "ax.set_xticklabels(df.iloc[:,1:-1].columns, rotation=45, fontsize=8)\n",
    "\n",
    "plt.show()"
   ]
  },
  {
   "cell_type": "code",
   "execution_count": 44,
   "metadata": {},
   "outputs": [
    {
     "data": {
      "text/html": [
       "<div>\n",
       "<style scoped>\n",
       "    .dataframe tbody tr th:only-of-type {\n",
       "        vertical-align: middle;\n",
       "    }\n",
       "\n",
       "    .dataframe tbody tr th {\n",
       "        vertical-align: top;\n",
       "    }\n",
       "\n",
       "    .dataframe thead th {\n",
       "        text-align: right;\n",
       "    }\n",
       "</style>\n",
       "<table border=\"1\" class=\"dataframe\">\n",
       "  <thead>\n",
       "    <tr style=\"text-align: right;\">\n",
       "      <th>Class</th>\n",
       "      <th>2</th>\n",
       "      <th>4</th>\n",
       "    </tr>\n",
       "    <tr>\n",
       "      <th>labels</th>\n",
       "      <th></th>\n",
       "      <th></th>\n",
       "    </tr>\n",
       "  </thead>\n",
       "  <tbody>\n",
       "    <tr>\n",
       "      <th>0</th>\n",
       "      <td>444</td>\n",
       "      <td>10</td>\n",
       "    </tr>\n",
       "    <tr>\n",
       "      <th>1</th>\n",
       "      <td>7</td>\n",
       "      <td>87</td>\n",
       "    </tr>\n",
       "    <tr>\n",
       "      <th>2</th>\n",
       "      <td>0</td>\n",
       "      <td>80</td>\n",
       "    </tr>\n",
       "    <tr>\n",
       "      <th>3</th>\n",
       "      <td>7</td>\n",
       "      <td>64</td>\n",
       "    </tr>\n",
       "  </tbody>\n",
       "</table>\n",
       "</div>"
      ],
      "text/plain": [
       "Class     2   4\n",
       "labels         \n",
       "0       444  10\n",
       "1         7  87\n",
       "2         0  80\n",
       "3         7  64"
      ]
     },
     "execution_count": 44,
     "metadata": {},
     "output_type": "execute_result"
    }
   ],
   "source": [
    "# Cross tabulating the cluster labels with \"Class\"\n",
    "labels = cancer.fit_predict(df.iloc[:,1:-1])\n",
    "ctf = pd.DataFrame({'labels': labels, 'Class': df[\"Class\"]})\n",
    "pd.crosstab(ctf['labels'], ctf['Class'])"
   ]
  },
  {
   "cell_type": "code",
   "execution_count": 45,
   "metadata": {},
   "outputs": [
    {
     "data": {
      "text/html": [
       "<div>\n",
       "<style scoped>\n",
       "    .dataframe tbody tr th:only-of-type {\n",
       "        vertical-align: middle;\n",
       "    }\n",
       "\n",
       "    .dataframe tbody tr th {\n",
       "        vertical-align: top;\n",
       "    }\n",
       "\n",
       "    .dataframe thead th {\n",
       "        text-align: right;\n",
       "    }\n",
       "</style>\n",
       "<table border=\"1\" class=\"dataframe\">\n",
       "  <thead>\n",
       "    <tr style=\"text-align: right;\">\n",
       "      <th></th>\n",
       "      <th>A2</th>\n",
       "      <th>A3</th>\n",
       "      <th>A4</th>\n",
       "      <th>A5</th>\n",
       "      <th>A6</th>\n",
       "      <th>A7</th>\n",
       "      <th>A8</th>\n",
       "      <th>A9</th>\n",
       "      <th>A10</th>\n",
       "    </tr>\n",
       "  </thead>\n",
       "  <tbody>\n",
       "    <tr>\n",
       "      <th>0</th>\n",
       "      <td>-0.497738</td>\n",
       "      <td>-0.608113</td>\n",
       "      <td>-0.603239</td>\n",
       "      <td>-0.516173</td>\n",
       "      <td>-0.513524</td>\n",
       "      <td>-0.585717</td>\n",
       "      <td>-0.548496</td>\n",
       "      <td>-0.530603</td>\n",
       "      <td>-0.303672</td>\n",
       "    </tr>\n",
       "    <tr>\n",
       "      <th>1</th>\n",
       "      <td>0.982768</td>\n",
       "      <td>1.200701</td>\n",
       "      <td>1.191076</td>\n",
       "      <td>1.019167</td>\n",
       "      <td>1.013936</td>\n",
       "      <td>1.156480</td>\n",
       "      <td>1.082987</td>\n",
       "      <td>1.047659</td>\n",
       "      <td>0.599590</td>\n",
       "    </tr>\n",
       "  </tbody>\n",
       "</table>\n",
       "</div>"
      ],
      "text/plain": [
       "         A2        A3        A4        A5        A6        A7        A8  \\\n",
       "0 -0.497738 -0.608113 -0.603239 -0.516173 -0.513524 -0.585717 -0.548496   \n",
       "1  0.982768  1.200701  1.191076  1.019167  1.013936  1.156480  1.082987   \n",
       "\n",
       "         A9       A10  \n",
       "0 -0.530603 -0.303672  \n",
       "1  1.047659  0.599590  "
      ]
     },
     "execution_count": 45,
     "metadata": {},
     "output_type": "execute_result"
    }
   ],
   "source": [
    "# Implementing Normalization using StandardScaler\n",
    "from sklearn.preprocessing import StandardScaler\n",
    "from sklearn.pipeline import make_pipeline\n",
    "\n",
    "scaler = StandardScaler()\n",
    "kmeans = KMeans(n_clusters=2, n_init=20)\n",
    "pipeline = make_pipeline(scaler, kmeans)\n",
    "pipeline.fit(df.iloc[:,1:-1])\n",
    "\n",
    "pd.DataFrame(pipeline.named_steps['kmeans'].cluster_centers_, columns = df.iloc[:,1:10].columns)"
   ]
  },
  {
   "cell_type": "code",
   "execution_count": 46,
   "metadata": {},
   "outputs": [
    {
     "data": {
      "text/html": [
       "<div>\n",
       "<style scoped>\n",
       "    .dataframe tbody tr th:only-of-type {\n",
       "        vertical-align: middle;\n",
       "    }\n",
       "\n",
       "    .dataframe tbody tr th {\n",
       "        vertical-align: top;\n",
       "    }\n",
       "\n",
       "    .dataframe thead th {\n",
       "        text-align: right;\n",
       "    }\n",
       "</style>\n",
       "<table border=\"1\" class=\"dataframe\">\n",
       "  <thead>\n",
       "    <tr style=\"text-align: right;\">\n",
       "      <th>Class</th>\n",
       "      <th>2</th>\n",
       "      <th>4</th>\n",
       "    </tr>\n",
       "    <tr>\n",
       "      <th>labels</th>\n",
       "      <th></th>\n",
       "      <th></th>\n",
       "    </tr>\n",
       "  </thead>\n",
       "  <tbody>\n",
       "    <tr>\n",
       "      <th>0</th>\n",
       "      <td>446</td>\n",
       "      <td>18</td>\n",
       "    </tr>\n",
       "    <tr>\n",
       "      <th>1</th>\n",
       "      <td>12</td>\n",
       "      <td>223</td>\n",
       "    </tr>\n",
       "  </tbody>\n",
       "</table>\n",
       "</div>"
      ],
      "text/plain": [
       "Class     2    4\n",
       "labels          \n",
       "0       446   18\n",
       "1        12  223"
      ]
     },
     "execution_count": 46,
     "metadata": {},
     "output_type": "execute_result"
    }
   ],
   "source": [
    "# Cross tabulating the labels against \"Class\" after stardardization\n",
    "labels = pipeline.predict(df.iloc[:,1:-1])\n",
    "ctf_s = pd.DataFrame({'labels': labels, 'Class': df[\"Class\"]})\n",
    "pd.crosstab(ctf_s['labels'], ctf_s['Class'])"
   ]
  },
  {
   "cell_type": "code",
   "execution_count": null,
   "metadata": {},
   "outputs": [],
   "source": []
  }
 ],
 "metadata": {
  "kernelspec": {
   "display_name": "Python 3",
   "language": "python",
   "name": "python3"
  },
  "language_info": {
   "codemirror_mode": {
    "name": "ipython",
    "version": 3
   },
   "file_extension": ".py",
   "mimetype": "text/x-python",
   "name": "python",
   "nbconvert_exporter": "python",
   "pygments_lexer": "ipython3",
   "version": "3.6.5"
  }
 },
 "nbformat": 4,
 "nbformat_minor": 2
}
