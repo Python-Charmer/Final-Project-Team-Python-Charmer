{
 "cells": [
  {
   "cell_type": "code",
   "execution_count": 176,
   "metadata": {},
   "outputs": [],
   "source": [
    "# Loading Packages\n",
    "import pandas as pd\n",
    "import numpy as np\n",
    "import matplotlib.pyplot as plt\n",
    "from sklearn.cluster import KMeans\n",
    "from sklearn.preprocessing import StandardScaler\n",
    "from sklearn.pipeline import make_pipeline"
   ]
  },
  {
   "cell_type": "code",
   "execution_count": 177,
   "metadata": {},
   "outputs": [],
   "source": [
    "# Loading Data From Source.\n",
    "def load_data():\n",
    "  url = r'https://raw.githubusercontent.com/Python-Charmer/Final-Project-Team-Python-Charmer/master/Phase1/Data/BreastCancerWisconsin.csv'\n",
    "  df = pd.read_csv(url)\n",
    "  names = ['Scn','A2','A3','A4','A5','A6','A7', 'A8','A9','A10','Class']\n",
    "  df.columns = names\n",
    "  return df"
   ]
  },
  {
   "cell_type": "code",
   "execution_count": 178,
   "metadata": {},
   "outputs": [],
   "source": [
    "# Understanding Missing Values\n",
    "def clean_missing(df):\n",
    "  df['A7'] = df['A7'].replace('?',np.NaN)\n",
    "  df['A7'] = pd.to_numeric(df['A7'])\n",
    "  print(\"Below are how many missing values for each column\\n\")\n",
    "  print(df.isnull().sum())\n",
    "  print(\"\\nCleaning missing values with column means\\n\")\n",
    "  df = df.fillna(round(df.mean(skipna = True),2))\n",
    "  print(df.isnull().sum())\n",
    "  return df"
   ]
  },
  {
   "cell_type": "code",
   "execution_count": 179,
   "metadata": {},
   "outputs": [],
   "source": [
    "# Calculating Summary Metrics\n",
    "def  sum_metrics(df):\n",
    "  print(\"\\n Below are the summary metrics of the data \\n\" + str(df.describe()))\n",
    "  print (\"\\n\\nThere are \" + str(df.shape[0]) + \" rows and \" + str(df.shape[1]) + \" Columns in this data frame\")\n",
    "  print(\"\\nThere are \" + str(len(df['Scn'].unique())) + \" unique scn values in the dataset.\\n\")\n",
    "  print(\"Below are the duplicate rows in the dataset.\\n\")\n",
    "  print(str(df.loc[df.duplicated(), :]) + \"\\n\")"
   ]
  },
  {
   "cell_type": "code",
   "execution_count": 180,
   "metadata": {},
   "outputs": [],
   "source": [
    "# Plotting graphs\n",
    "def plot_graphs(df):\n",
    "  print(\"\\nBelow are the histograms of A2:A10 \\n\")\n",
    "  df.iloc[:,1:10].hist(bins = 8, color=\"blue\", grid=\"False\",alpha = .5, figsize=(12,6))\n",
    "  plt.tight_layout(rect=(0,0,1.2,1.2))\n",
    "  plt.show()\n",
    "  df['Class'].value_counts().plot.bar().set_title(\"Class Variable: 2 = Benign 4 = Malignant\")\n",
    "  df.plot.scatter(x='A3', y='A4').set_title(\"Scatter of A3 & A4 90% corr\")"
   ]
  },
  {
   "cell_type": "code",
   "execution_count": 181,
   "metadata": {},
   "outputs": [],
   "source": [
    "# We are getting centers for K = 4 clusters\n",
    "def get_mids(X):\n",
    "  clss = KMeans(n_clusters = 4) \n",
    "  clss.fit(X)\n",
    "  cent = clss.cluster_centers_\n",
    "  print(\"\\n Below are the centers of K = 4 clusters \\n\")\n",
    "  print(pd.DataFrame(cent ,columns  = X.columns))"
   ]
  },
  {
   "cell_type": "code",
   "execution_count": 182,
   "metadata": {},
   "outputs": [],
   "source": [
    "# We are plotting intertia plot to find optimal K\n",
    "def find_optimal_K(X):\n",
    "  print(\"\\n Below is the intertia chart \\n\")\n",
    "  inertia = []\n",
    "  k = []\n",
    "  for i in range(1,15):\n",
    "    clss = KMeans(n_clusters = i) \n",
    "    clss.fit(X)\n",
    "    iner = clss.inertia_\n",
    "    k.append(i)\n",
    "    inertia.append(iner)\n",
    "  res  = pd.concat([pd.DataFrame(k), pd.DataFrame(inertia)],axis = 1)\n",
    "  res.columns = ['K','Inertia']\n",
    "  ax = res.plot(\"K\",marker='o', linestyle='dashed', title = \"Optimal K = 2\" )\n",
    "  ax.set_xlabel(\"Number of Clusters\")\n",
    "  ax.set_ylabel(\"Inertia\")"
   ]
  },
  {
   "cell_type": "code",
   "execution_count": 183,
   "metadata": {},
   "outputs": [],
   "source": [
    "# Plotting SD plot to understand the data variance\n",
    "def sd_plot(X):\n",
    "  dt = pd.DataFrame(X.std()).sort_values(by = 0, ascending = False)\n",
    "  dt.reset_index()\n",
    "  fig, ay = plt.subplots()\n",
    "  x_val = dt.index\n",
    "  y_val = dt[0].values\n",
    "  ay.bar(x = x_val, height = y_val)\n",
    "  ay.set_xlabel(\"Features\")\n",
    "  ay.set_ylabel(\"Standard Deviation\")\n",
    "  ay.set_title(\"Standard Deviation Plot\")\n",
    "\n",
    "\n",
    "# Plotting Box plot to understand the data variance\n",
    "def var_plot(df):\n",
    "  # Box plot showing variation of the columns A2:A10\n",
    "  data = []\n",
    "  for i in range(1, 10):\n",
    "      data.append(df.iloc[:, i])\n",
    "\n",
    "  # Multiple box plots on one Axes\n",
    "  fig, ax = plt.subplots()\n",
    "  plt.title(\"Boxplot showing Variation of Features\")\n",
    "  plt.xlabel(\"Columns A2 thru A10\")\n",
    "  plt.ylabel(\"Values\")\n",
    "  ax.boxplot(data, 0,showbox=True,showmeans=True)\n",
    "  top = 12\n",
    "  bottom = -2\n",
    "  ax.set_ylim(bottom, top)\n",
    "  ax.set_xticklabels(df.iloc[:,1:-1].columns, rotation=45, fontsize=8)\n",
    "  plt.show()"
   ]
  },
  {
   "cell_type": "code",
   "execution_count": 184,
   "metadata": {},
   "outputs": [],
   "source": [
    "#Getting centers of optimal K  = 2\n",
    "def get_centers(X):\n",
    "  print(\"\\n Below are the centers of K = 2 clusters \\n \\n\")\n",
    "  mdl = make_pipeline(StandardScaler(), KMeans(n_clusters = 2, n_init=20))\n",
    "  mdl.fit(X)\n",
    "  centers = pd.DataFrame(mdl.named_steps['kmeans'].cluster_centers_)\n",
    "  centers.columns = X.columns\n",
    "  print(centers)"
   ]
  },
  {
   "cell_type": "code",
   "execution_count": 185,
   "metadata": {},
   "outputs": [],
   "source": [
    "# Cross tabulating the cluster labels with \"Class\"\n",
    "def lables(i,df):\n",
    "  print(\"\\nBelow are the predicted labels with k = \" + str(i) + \"\\n\")\n",
    "  if i == 4:\n",
    "    mdl = KMeans(n_clusters = i)\n",
    "  else:\n",
    "    mdl =  make_pipeline(StandardScaler(), KMeans(n_clusters = i, n_init=20))\n",
    "  labels = mdl.fit_predict(df.iloc[:,1:-1])\n",
    "  ctf = pd.DataFrame({'labels': labels, 'Class': df[\"Class\"]})\n",
    "  print(pd.crosstab(ctf['labels'], ctf['Class']))"
   ]
  },
  {
   "cell_type": "code",
   "execution_count": 186,
   "metadata": {},
   "outputs": [],
   "source": [
    "# Create a new DataFrame for Phase 3\n",
    "def DataFrame_Phase3(X):\n",
    "  scaler = StandardScaler()  \n",
    "  model = KMeans(n_clusters = 2, n_init=20, max_iter=500)\n",
    "  pipeline = make_pipeline(scaler,model)\n",
    "  pipeline.fit(X)\n",
    "  labels = pipeline.predict(X)  \n",
    "  df['Predicted'] = labels  \n",
    "  df['New_Data'] = df['Predicted']\n",
    "  df['New_Data'] = df['New_Data'].replace(0, 2)\n",
    "  df['New_Data'] = df['New_Data'].replace(1, 4) \n",
    "  print(df.head(n=15))"
   ]
  },
  {
   "cell_type": "code",
   "execution_count": 187,
   "metadata": {},
   "outputs": [],
   "source": [
    "# Create function to calculate error rate\n",
    "def Error_Rate(New_Data,Class):\n",
    "# count how many 2 and 4 values in New_Data column\n",
    "# df['New_Data'].value_counts()\n",
    "# count how many labels (=2) that are in CLASS have value of 4\n",
    "# labels_class = df.groupby('New_Data')['Class'].value_counts()\n",
    "    err_p4_a2 = df[(df.Class == 2) & (df.New_Data == 4)]['Class'].count()\n",
    "    err_p2_a4 = df[(df.Class == 4) & (df.New_Data == 2)]['Class'].count()\n",
    "    err_tot_22 = df[(df.New_Data == 2)]['Class'].count()\n",
    "    err_tot_44 = df[(df.New_Data == 4)]['Class'].count()\n",
    "\n",
    "    B2  = str(round(err_p4_a2/err_tot_22,4)*100) + \"%\"\n",
    "    M2 = str(round(err_p2_a4/err_tot_44,4)*100) + \"%\"\n",
    "    tot_error2 = str(round((err_p4_a2 + err_p2_a4)/(err_tot_22 + err_tot_44),4)*100) + \"%\"\n",
    "    \n",
    "    print()  \n",
    "    print(\"The error rate for beningn cells is \" + str(B2) + \"\\n\")\n",
    "    print(\"The error rate for malignent cells is \" +str(M2) + \"\\n\")\n",
    "    print(\"The total error rate is \" +str(tot_error2) + \"\\n\")\n"
   ]
  },
  {
   "cell_type": "code",
   "execution_count": 188,
   "metadata": {},
   "outputs": [
    {
     "name": "stdout",
     "output_type": "stream",
     "text": [
      "Below are how many missing values for each column\n",
      "\n",
      "Scn       0\n",
      "A2        0\n",
      "A3        0\n",
      "A4        0\n",
      "A5        0\n",
      "A6        0\n",
      "A7       16\n",
      "A8        0\n",
      "A9        0\n",
      "A10       0\n",
      "Class     0\n",
      "dtype: int64\n",
      "\n",
      "Cleaning missing values with column means\n",
      "\n",
      "Scn      0\n",
      "A2       0\n",
      "A3       0\n",
      "A4       0\n",
      "A5       0\n",
      "A6       0\n",
      "A7       0\n",
      "A8       0\n",
      "A9       0\n",
      "A10      0\n",
      "Class    0\n",
      "dtype: int64\n",
      "\n",
      " Below are the summary metrics of the data \n",
      "                Scn          A2          A3          A4          A5  \\\n",
      "count  6.990000e+02  699.000000  699.000000  699.000000  699.000000   \n",
      "mean   1.071704e+06    4.417740    3.134478    3.207439    2.806867   \n",
      "std    6.170957e+05    2.815741    3.051459    2.971913    2.855379   \n",
      "min    6.163400e+04    1.000000    1.000000    1.000000    1.000000   \n",
      "25%    8.706885e+05    2.000000    1.000000    1.000000    1.000000   \n",
      "50%    1.171710e+06    4.000000    1.000000    1.000000    1.000000   \n",
      "75%    1.238298e+06    6.000000    5.000000    5.000000    4.000000   \n",
      "max    1.345435e+07   10.000000   10.000000   10.000000   10.000000   \n",
      "\n",
      "               A6          A7          A8          A9         A10       Class  \n",
      "count  699.000000  699.000000  699.000000  699.000000  699.000000  699.000000  \n",
      "mean     3.216023    3.544549    3.437768    2.866953    1.589413    2.689557  \n",
      "std      2.214300    3.601852    2.438364    3.053634    1.715078    0.951273  \n",
      "min      1.000000    1.000000    1.000000    1.000000    1.000000    2.000000  \n",
      "25%      2.000000    1.000000    2.000000    1.000000    1.000000    2.000000  \n",
      "50%      2.000000    1.000000    3.000000    1.000000    1.000000    2.000000  \n",
      "75%      4.000000    5.000000    5.000000    4.000000    1.000000    4.000000  \n",
      "max     10.000000   10.000000   10.000000   10.000000   10.000000    4.000000  \n",
      "\n",
      "\n",
      "There are 699 rows and 11 Columns in this data frame\n",
      "\n",
      "There are 645 unique scn values in the dataset.\n",
      "\n",
      "Below are the duplicate rows in the dataset.\n",
      "\n",
      "         Scn  A2  A3  A4  A5  A6    A7  A8  A9  A10  Class\n",
      "208  1218860   1   1   1   1   1   1.0   3   1    1      2\n",
      "253  1100524   6  10  10   2   8  10.0   7   3    3      4\n",
      "254  1116116   9  10  10   1  10   8.0   3   3    1      4\n",
      "258  1198641   3   1   1   1   2   1.0   3   1    1      2\n",
      "272   320675   3   3   5   2   3  10.0   7   1    1      4\n",
      "338   704097   1   1   1   1   1   1.0   2   1    1      2\n",
      "561  1321942   5   1   1   1   2   1.0   3   1    1      2\n",
      "684   466906   1   1   1   1   2   1.0   1   1    1      2\n",
      "\n",
      "\n",
      "Below are the histograms of A2:A10 \n",
      "\n"
     ]
    },
    {
     "name": "stderr",
     "output_type": "stream",
     "text": [
      "C:\\Users\\jtm_u\\Anaconda3\\lib\\site-packages\\matplotlib\\cbook\\deprecation.py:107: MatplotlibDeprecationWarning: Passing one of 'on', 'true', 'off', 'false' as a boolean is deprecated; use an actual boolean (True/False) instead.\n",
      "  warnings.warn(message, mplDeprecation, stacklevel=1)\n"
     ]
    },
    {
     "data": {
      "image/png": "[encoded data removed]",
      "text/plain": [
       "<Figure size 864x432 with 9 Axes>"
      ]
     },
     "metadata": {},
     "output_type": "display_data"
    },
    {
     "name": "stdout",
     "output_type": "stream",
     "text": [
      "The columns that need standardization are: A7,A3,& A9 because they have the highest amount of variance compared to other factors.\n"
     ]
    },
    {
     "data": {
      "image/png": "[encoded data removed]",
      "text/plain": [
       "<Figure size 432x288 with 1 Axes>"
      ]
     },
     "metadata": {},
     "output_type": "display_data"
    },
    {
     "data": {
      "image/png": "[encoded data removed]",
      "text/plain": [
       "<Figure size 432x288 with 1 Axes>"
      ]
     },
     "metadata": {},
     "output_type": "display_data"
    }
   ],
   "source": [
    "# Main Function Phase 1\n",
    "df = load_data()\n",
    "df = clean_missing(df)\n",
    "sum_metrics(df)\n",
    "plot_graphs(df)\n",
    "print(\"The columns that need standardization are: A7,A3,& A9 because they have the highest amount of variance compared to other factors.\")"
   ]
  },
  {
   "cell_type": "code",
   "execution_count": 189,
   "metadata": {},
   "outputs": [
    {
     "name": "stdout",
     "output_type": "stream",
     "text": [
      "\n",
      " Below are the centers of K = 4 clusters \n",
      "\n",
      "         A2        A3        A4        A5        A6        A7        A8  \\\n",
      "0  2.971491  1.252193  1.372807  1.291667  2.048246  1.351930  2.072368   \n",
      "1  7.421875  7.484375  7.015625  4.640625  5.906250  3.447188  5.546875   \n",
      "2  6.721519  8.367089  8.405063  7.721519  6.734177  9.316456  7.367089   \n",
      "3  7.270000  4.800000  5.030000  4.660000  4.040000  9.045400  5.210000   \n",
      "\n",
      "         A9       A10  \n",
      "0  1.210526  1.103070  \n",
      "1  7.203125  2.281250  \n",
      "2  7.734177  3.734177  \n",
      "3  3.800000  1.670000  \n",
      "\n",
      "Below are the predicted labels with k = 4\n",
      "\n",
      "Class     2   4\n",
      "labels         \n",
      "0       444  10\n",
      "1         7  87\n",
      "2         7  64\n",
      "3         0  80\n",
      "\n",
      " Below is the intertia chart \n",
      "\n"
     ]
    },
    {
     "data": {
      "image/png": "[encoded data removed]",
      "text/plain": [
       "<Figure size 432x288 with 1 Axes>"
      ]
     },
     "metadata": {},
     "output_type": "display_data"
    },
    {
     "data": {
      "image/png": "[encoded data removed]",
      "text/plain": [
       "<Figure size 432x288 with 1 Axes>"
      ]
     },
     "metadata": {},
     "output_type": "display_data"
    },
    {
     "data": {
      "image/png": "[encoded data removed]",
      "text/plain": [
       "<Figure size 432x288 with 1 Axes>"
      ]
     },
     "metadata": {},
     "output_type": "display_data"
    },
    {
     "name": "stdout",
     "output_type": "stream",
     "text": [
      "\n",
      " Based on the Box and SD plot above we can see features A7,A9 has the most variations.\n",
      "\n",
      "\n",
      " Below are the centers of K = 2 clusters \n",
      " \n",
      "\n",
      "         A2        A3        A4        A5        A6        A7        A8  \\\n",
      "0  0.982768  1.200701  1.191076  1.019167  1.013936  1.156487  1.082987   \n",
      "1 -0.497738 -0.608113 -0.603239 -0.516173 -0.513524 -0.585721 -0.548496   \n",
      "\n",
      "         A9       A10  \n",
      "0  1.047659  0.599590  \n",
      "1 -0.530603 -0.303672  \n",
      "\n",
      "Below are the predicted labels with k = 2\n",
      "\n",
      "Class     2    4\n",
      "labels          \n",
      "0       446   18\n",
      "1        12  223\n"
     ]
    }
   ],
   "source": [
    "#Main Functions Phase 2\n",
    "X = df.drop(['Scn','Class'], axis  = 1)\n",
    "y = df['Class']\n",
    "get_mids(X)\n",
    "lables(4,df)\n",
    "find_optimal_K(X)\n",
    "sd_plot(X)\n",
    "var_plot(df)\n",
    "print('\\n Based on the Box and SD plot above we can see features A7,A9 has the most variations.\\n')\n",
    "get_centers(X)\n",
    "lables(2,df)"
   ]
  },
  {
   "cell_type": "code",
   "execution_count": 190,
   "metadata": {},
   "outputs": [
    {
     "name": "stdout",
     "output_type": "stream",
     "text": [
      "        Scn  A2  A3  A4  A5  A6    A7  A8  A9  A10  Class  Predicted  New_Data\n",
      "0   1000025   5   1   1   1   2   1.0   3   1    1      2          0         2\n",
      "1   1002945   5   4   4   5   7  10.0   3   2    1      2          1         4\n",
      "2   1015425   3   1   1   1   2   2.0   3   1    1      2          0         2\n",
      "3   1016277   6   8   8   1   3   4.0   3   7    1      2          1         4\n",
      "4   1017023   4   1   1   3   2   1.0   3   1    1      2          0         2\n",
      "5   1017122   8  10  10   8   7  10.0   9   7    1      4          1         4\n",
      "6   1018099   1   1   1   1   2  10.0   3   1    1      2          0         2\n",
      "7   1018561   2   1   2   1   2   1.0   3   1    1      2          0         2\n",
      "8   1033078   2   1   1   1   2   1.0   1   1    5      2          0         2\n",
      "9   1033078   4   2   1   1   2   1.0   2   1    1      2          0         2\n",
      "10  1035283   1   1   1   1   1   1.0   3   1    1      2          0         2\n",
      "11  1036172   2   1   1   1   2   1.0   2   1    1      2          0         2\n",
      "12  1041801   5   3   3   3   2   3.0   4   4    1      4          0         2\n",
      "13  1043999   1   1   1   1   2   3.0   3   1    1      2          0         2\n",
      "14  1044572   8   7   5  10   7   9.0   5   5    4      4          1         4\n",
      "\n",
      "The error rate for beningn cells is 2.58%\n",
      "\n",
      "The error rate for malignent cells is 8.12%\n",
      "\n",
      "The total error rate is 4.43%\n",
      "\n"
     ]
    }
   ],
   "source": [
    "#Main Function Phase 3\n",
    "DataFrame_Phase3(X)\n",
    "Error_Rate(df['New_Data'], df['Class'])"
   ]
  },
  {
   "cell_type": "code",
   "execution_count": null,
   "metadata": {},
   "outputs": [],
   "source": []
  },
  {
   "cell_type": "code",
   "execution_count": null,
   "metadata": {},
   "outputs": [],
   "source": []
  },
  {
   "cell_type": "code",
   "execution_count": null,
   "metadata": {},
   "outputs": [],
   "source": []
  }
 ],
 "metadata": {
  "kernelspec": {
   "display_name": "Python 3",
   "language": "python",
   "name": "python3"
  },
  "language_info": {
   "codemirror_mode": {
    "name": "ipython",
    "version": 3
   },
   "file_extension": ".py",
   "mimetype": "text/x-python",
   "name": "python",
   "nbconvert_exporter": "python",
   "pygments_lexer": "ipython3",
   "version": "3.6.5"
  }
 },
 "nbformat": 4,
 "nbformat_minor": 2
}
